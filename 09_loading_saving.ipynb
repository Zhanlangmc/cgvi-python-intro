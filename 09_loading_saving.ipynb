{
 "cells": [
  {
   "cell_type": "markdown",
   "metadata": {},
   "source": [
    "# Loading and Saving Data\n",
    "\n",
    "Here we'll look at how to save or load data in numpy. There are a variety of ways to save python objects - for a more general approach to save any python object, we would encourage you to look into the [pickle package](https://docs.python.org/3/library/pickle.html).\n",
    "\n",
    "We will cover the following:\n",
    "* Exceptions and exception handling\n",
    "* Opening, reading and writing to text and binary files\n",
    "* Saving and loading numpy arrays\n",
    "\n",
    "Here we will use the native functions in numpy to save and load data. The simplest is `numpy.save()`, which can be used to save a single numpy array to a file, in `.npy` file format."
   ]
  },
  {
   "cell_type": "markdown",
   "metadata": {},
   "source": [
    "### Exceptions\n",
    "\n",
    "First we'll very quickly cover exception handling. We've encountered lots of examples before where we'd do something incorrect, and python would raise some form of exception. For example, accessing a variable that hasn't been defined leads to a `NameError`.\n",
    "\n",
    "So far we've just let these exceptions happen. Sometimes, however, when a particular kind of exception happens we might want to \"handle\" the exception using some specially written code. This can be achieved using a `try` block."
   ]
  },
  {
   "cell_type": "code",
   "execution_count": 4,
   "metadata": {},
   "outputs": [
    {
     "name": "stdout",
     "output_type": "stream",
     "text": [
      "A NameError happened here, but I handled it!\n"
     ]
    }
   ],
   "source": [
    "# In the try block, we put the code we want to run, that may cause an exception to be raised.\n",
    "try:\n",
    "    print(undefined_variable)\n",
    "except NameError:\n",
    "    print(\"A NameError happened here, but I handled it!\")\n",
    "\n",
    "# In the except block, we specify what exceptions we will handle (here NameError) and then provide \n",
    "# a block of code to handle the exception."
   ]
  },
  {
   "cell_type": "markdown",
   "metadata": {},
   "source": [
    "Note that the `NameError` exception log is not shown, as the exception was handled.\n",
    "\n",
    "Handling exceptions is important - if an exception is not handled, python will just display the error message and trace for the exception, and immediately exit the current program. This is very often not desired behaviour. \n",
    "\n",
    "For example, if you were writing a calculator program in python, whenever a user attempted to calculate the square root of a negative number, if you use `math.sqrt(-1)` for example it will throw a `ValueError` and exit the calculator program completely.\n",
    "\n",
    "How you want to handle exceptions will depend on the situation. In the calculator example, you might handle it by showing an error message to the user, but then keep the program running.\n",
    "\n",
    "`try` blocks can also have a `finally` block. This contains code that will always execute, even if an exception is raised. The most common use case for this is to close a file or other resource if an error happens, so the file isn't corrupted."
   ]
  },
  {
   "cell_type": "code",
   "execution_count": 2,
   "metadata": {},
   "outputs": [
    {
     "name": "stdout",
     "output_type": "stream",
     "text": [
      "Handling the exception\n",
      "This will always be executed, even if an exception is raised.\n"
     ]
    }
   ],
   "source": [
    "import math\n",
    "try:\n",
    "    math.sqrt(-1) # This will throw a ValueError as sqrt(-1) is not a real number.\n",
    "    print(\"This won't be executed, as the exception has been raised\")\n",
    "except ValueError:\n",
    "    print(\"Handling the exception\")\n",
    "finally:\n",
    "    print(\"This will always be executed, even if an exception is raised.\")\n"
   ]
  },
  {
   "cell_type": "markdown",
   "metadata": {},
   "source": [
    "Note that if an exception is thrown inside a function, and that function doesn't handle it, control flow will leave the function early:"
   ]
  },
  {
   "cell_type": "code",
   "execution_count": 3,
   "metadata": {},
   "outputs": [
    {
     "name": "stdout",
     "output_type": "stream",
     "text": [
      "This line will be executed\n",
      "Handling the sqrt(-1) error\n"
     ]
    }
   ],
   "source": [
    "def my_func():\n",
    "    print(\"This line will be executed\")\n",
    "    math.sqrt(-1)\n",
    "    print(\"This line will never run as this function doesn't handle the exception.\")\n",
    "\n",
    "try:\n",
    "    my_func()\n",
    "except ValueError:\n",
    "    print(\"Handling the sqrt(-1) error\")"
   ]
  },
  {
   "cell_type": "markdown",
   "metadata": {},
   "source": [
    "If functions call other functions, generally execution will keep exiting functions until the exception is handled. If it is never handled, the program will exit."
   ]
  },
  {
   "cell_type": "code",
   "execution_count": 4,
   "metadata": {},
   "outputs": [
    {
     "name": "stdout",
     "output_type": "stream",
     "text": [
      "Starting func1()\n",
      "Starting func2()\n",
      "Handling the exception\n",
      "Finishing func1()\n"
     ]
    }
   ],
   "source": [
    "def func1():\n",
    "    print(\"Starting func1()\")\n",
    "    try:\n",
    "        func2()\n",
    "    except ValueError:\n",
    "        print(\"Handling the exception\")\n",
    "    print(\"Finishing func1()\") # This line is executed, as the exception is handled.\n",
    "\n",
    "def func2():\n",
    "    print(\"Starting func2()\")\n",
    "    math.sqrt(-1)\n",
    "    print(\"Finishing func2()\") # Note this line is never executed, due to the exception\n",
    "\n",
    "func1()"
   ]
  },
  {
   "cell_type": "markdown",
   "metadata": {},
   "source": [
    "### Files and file handles\n",
    "\n",
    "Python has a built in function `open()` for opening files for both reading and writing.\n",
    "\n",
    "This returns a file handle, which is an object representing the file. It's used by both built-in python functions like `write()` as well as other library functions (including `numpy.save()`).\n",
    "\n",
    "When we open the file, we want to be exception safe. This means that even if an exception occurs, we want to make sure the file is properly closed.\n",
    "\n",
    "Because of this we'll use a `try` block with a `finally` clause that closes the file, so even if something goes wrong during writing, the file will definitely be closed."
   ]
  },
  {
   "cell_type": "code",
   "execution_count": 10,
   "metadata": {},
   "outputs": [],
   "source": [
    "try:\n",
    "    file_handle = open(\"output/test_text.txt\", \"w\") \n",
    "    # The \"w\" argument is a string that specifies the file mode.\n",
    "    # Here it's \"w\" which means write.\n",
    "    file_handle.write(\"This is a test string\")\n",
    "finally:\n",
    "    file_handle.close()"
   ]
  },
  {
   "cell_type": "markdown",
   "metadata": {},
   "source": [
    "This works fine, but writing to files is something we do all the time, and this is a bit tedious to write. It's also easy to make a mistake and forget to close a file.\n",
    "\n",
    "Fortunately, python has a handy `with` statement, which lets you open a file for a block of code. It automatically closes the file at the end, and is exception safe, just like the example above."
   ]
  },
  {
   "cell_type": "code",
   "execution_count": 12,
   "metadata": {},
   "outputs": [],
   "source": [
    "with open(\"output/test_text.txt\", \"w\") as file_handle:\n",
    "    file_handle.write(\"This is another test string\")"
   ]
  },
  {
   "cell_type": "markdown",
   "metadata": {},
   "source": [
    "### Note: Escaping Characters and Newlines\n",
    "\n",
    "Now that we've been using strings for a while, you may have spotted a potential problem. We write a string literal using quotes `\"\"`, but what if we want to have a string literal that actually contains quotes? For example, how do we write the string `She said \"Hello!\".`\n",
    "\n",
    "We can do this by using the special backslash character `\\`. This \"escapes\" the following character in the string. For `\"`, this means the quote will be treated as a quote character within the string, not the end of the string:"
   ]
  },
  {
   "cell_type": "code",
   "execution_count": 1,
   "metadata": {},
   "outputs": [
    {
     "name": "stdout",
     "output_type": "stream",
     "text": [
      "She said \"Hello!\".\n"
     ]
    }
   ],
   "source": [
    "print(\"She said \\\"Hello!\\\".\")"
   ]
  },
  {
   "cell_type": "markdown",
   "metadata": {},
   "source": [
    "Note the escaped quotes `\\\"` do not cause the string to be terminated. This brings up another issue, of how to write the character `\\` in a string. We do this using a double `\\\\`, so for example:"
   ]
  },
  {
   "cell_type": "code",
   "execution_count": 2,
   "metadata": {},
   "outputs": [
    {
     "name": "stdout",
     "output_type": "stream",
     "text": [
      "C:\\Windows\\System32\n"
     ]
    }
   ],
   "source": [
    "file_path = \"C:\\\\Windows\\\\System32\"\n",
    "print(file_path)"
   ]
  },
  {
   "cell_type": "markdown",
   "metadata": {},
   "source": [
    "As you can see the double `\\\\` in the string literal are interpreted as single backslash characters in the actual string. This is useful to know on Windows, where `\\` is the path separator. If you want to write code that works on multiple OSs though, I'd encourage you to look at `os.path.join`."
   ]
  },
  {
   "cell_type": "markdown",
   "metadata": {},
   "source": [
    "The `\\` is also used to write some special characters, including the newline character `\\n` and the tab character `\\t`. The newline character is used to add a new line to a string, like pressing the `ENTER` key when using a text editor:"
   ]
  },
  {
   "cell_type": "code",
   "execution_count": 3,
   "metadata": {},
   "outputs": [
    {
     "name": "stdout",
     "output_type": "stream",
     "text": [
      "These\n",
      "are\n",
      "multiple\n",
      "lines\n",
      "of\n",
      "text.\n"
     ]
    }
   ],
   "source": [
    "print(\"These\\nare\\nmultiple\\nlines\\nof\\ntext.\")"
   ]
  },
  {
   "cell_type": "markdown",
   "metadata": {},
   "source": [
    "If you're writing multiline strings with triple quotes `\"\"\"` you don't need to manually add the newline characters. Every new line in your source code, within the `\"\"\"` quotes counts as a `\\n` newline character:"
   ]
  },
  {
   "cell_type": "code",
   "execution_count": 7,
   "metadata": {},
   "outputs": [
    {
     "name": "stdout",
     "output_type": "stream",
     "text": [
      "These\n",
      "are\n",
      "multiple\n",
      "lines\n",
      "of\n",
      "text.\n"
     ]
    }
   ],
   "source": [
    "print(\"\"\"These\n",
    "are\n",
    "multiple\n",
    "lines\n",
    "of\n",
    "text.\"\"\")"
   ]
  },
  {
   "cell_type": "markdown",
   "metadata": {},
   "source": [
    "The `\\t` character adds a tab character to the string, like pressing the `TAB` key when using a text editor. How these special characters will appear really depends on what text editor you use to view them, and how its settings are configured. It's pretty common for them to appear as a space the same width as four regular spaces. Some editors align tabs to the next multiple of 4 columns, so they can be a way to show things in columns (but remember the results might look completely different to another person using a different editor)."
   ]
  },
  {
   "cell_type": "code",
   "execution_count": 6,
   "metadata": {},
   "outputs": [
    {
     "name": "stdout",
     "output_type": "stream",
     "text": [
      "Some\ttext\twith\ttabs.\n",
      "Another\tline\tof\ttext.\n"
     ]
    }
   ],
   "source": [
    "print(\"Some\\ttext\\twith\\ttabs.\")\n",
    "print(\"Another\\tline\\tof\\ttext.\")"
   ]
  },
  {
   "cell_type": "markdown",
   "metadata": {},
   "source": [
    "### Exercise: Comma Separated Value Files\n",
    "\n",
    "You now know how to write text strings to a file. One very long-lived, but still very useful format for data are [Comma Separated Value (CSV)](https://en.wikipedia.org/wiki/Comma-separated_values) files. These can store tables of data, and are still supported by modern spreadsheet software (LibreOffice Calc, Excel, Google Sheets, Numbers etc.). They're often a good way to quickly save some data from a python script and later load it and process it in a spreadsheet program.\n",
    "\n",
    "The format of CSV files is super simple. They're just text files, and each entry in the table is separated from the next by a special character (usually a comma `,` or a semicolon `;`). Lines of the table are separated by newline characters. Here's a quick example:\n",
    "\n",
    "<code>\n",
    "Time, Temperature <br>\n",
    "0, 20 <br>\n",
    "1, 24 <br>\n",
    "2, 25 <br>\n",
    "3, 26 <br>\n",
    "4, 24 <br>\n",
    "</code>"
   ]
  },
  {
   "cell_type": "markdown",
   "metadata": {},
   "source": [
    "This example contains a table with two columns and 6 rows, with the headings and values shown. If you try saving this text to a file called e.g. `times.csv`, you should then be able to open it in your spreadsheet software of choice.\n",
    "\n",
    "Try saving some data about the performance of your current machine (CPU usage, memory usage etc.) to a CSV file, and then load it in Excel, or your software of choice. Then use the software to plot a line graph of the values over time. There's code to obtain this information available below.\n",
    "\n",
    "If you get an error related to importing `psutil`, you may be able to install it with `pip install psutil` (if you run into trouble with this try saving some other data)."
   ]
  },
  {
   "cell_type": "code",
   "execution_count": 1,
   "metadata": {},
   "outputs": [
    {
     "name": "stdout",
     "output_type": "stream",
     "text": [
      "Time, Cpu Usage, Memory Usage\n",
      "13:25:35 7.7 38.8\n",
      "13:25:36 6.5 38.8\n",
      "13:25:37 4.0 38.8\n",
      "13:25:38 4.7 38.8\n",
      "13:25:39 3.3 38.8\n",
      "13:25:40 5.7 38.8\n",
      "13:25:41 3.3 38.8\n",
      "13:25:42 3.3 38.8\n",
      "13:25:43 5.9 38.8\n",
      "13:25:44 2.8 38.8\n"
     ]
    }
   ],
   "source": [
    "import psutil\n",
    "import time\n",
    "from datetime import datetime\n",
    "\n",
    "# Open the file for writing - make sure to use \"w\" mode.\n",
    "# Your code here...\n",
    "\n",
    "# Write the headings (e.g. \"Time, CPU Usage, Memory Usage\")\n",
    "# Your code here...\n",
    "\n",
    "print(\"Time, Cpu Usage, Memory Usage\")\n",
    "for i in range(10):\n",
    "    # Here's how to get some info about time, cpu usage and memory usage from psutil:\n",
    "    current_time = datetime.now().strftime(\"%H:%M:%S\")\n",
    "    cpu_usage = psutil.cpu_percent(interval=1)\n",
    "    percent_memory_used = psutil.virtual_memory().percent\n",
    "\n",
    "    # Here, save these values to your CSV file rather than just printing them.\n",
    "    print(current_time, cpu_usage, percent_memory_used)\n",
    "    # Your code here...\n"
   ]
  },
  {
   "cell_type": "markdown",
   "metadata": {},
   "source": [
    "### Saving a single numpy array\n",
    "\n",
    "Above we saw how to open, write and read general text files in Python. If you'd like to save the values in a numpy array, numpy has some convenient functions and its own file format to achieve this.\n",
    "\n",
    "The first function is `np.save()`, which can be used to save an array to disk. By convention we use the `.npy` file extension when saving numpy arrays."
   ]
  },
  {
   "cell_type": "code",
   "execution_count": 1,
   "metadata": {},
   "outputs": [
    {
     "name": "stdout",
     "output_type": "stream",
     "text": [
      "[0.52564129 0.77443034 0.7243376  0.99637794 0.35926575 0.19174401\n",
      " 0.51097426 0.48825699 0.22277847 0.55514604]\n"
     ]
    }
   ],
   "source": [
    "import numpy as np\n",
    "\n",
    "array = np.random.rand(10)\n",
    "\n",
    "print(array)\n",
    "\n",
    "np.save(\"output/saved_array.npy\", array)"
   ]
  },
  {
   "cell_type": "markdown",
   "metadata": {},
   "source": [
    "One thing to note is that the text files you wrote in the code and exercises above store values as ascii characters - when you saved numbers to the file, they were converted into a string before saving. `np.save()` instead saves the individual values in the array directly to disk in binary format.\n",
    "\n",
    "This is more efficient - for example consider saving the floating-point number `0.123456789`. If we save this as the string `\"0.123456789\"` it will occupy 11 bytes, one for each character in the string. But if the number is in 32-bit floating-point format, saving it directly will only occupy 4 bytes, using less than half as much memory. We also won't have to convert the value from binary to decimal, potentially losing some precision or slightly changing the value."
   ]
  },
  {
   "cell_type": "markdown",
   "metadata": {},
   "source": [
    "Now, let's try loading the array and check the contents are the same. This time we'll use the np.load() function."
   ]
  },
  {
   "cell_type": "code",
   "execution_count": 2,
   "metadata": {},
   "outputs": [
    {
     "name": "stdout",
     "output_type": "stream",
     "text": [
      "[0.52564129 0.77443034 0.7243376  0.99637794 0.35926575 0.19174401\n",
      " 0.51097426 0.48825699 0.22277847 0.55514604]\n",
      "The arrays are the same!\n"
     ]
    }
   ],
   "source": [
    "loaded_array = np.load(\"output/saved_array.npy\")\n",
    "\n",
    "print(loaded_array)\n",
    "if np.array_equal(loaded_array, array): # We don't need to use allclose() here as the arrays should be identical.\n",
    "    print(\"The arrays are the same!\")"
   ]
  },
  {
   "cell_type": "markdown",
   "metadata": {},
   "source": [
    "## Further Reading\n",
    "\n",
    "For more info on reading/writing files, see the [official documentation](https://docs.python.org/3/tutorial/inputoutput.html#tut-files).\n",
    "\n",
    "As stated above, I'd recommend checking out the `pickle` module as a way to serialise general python data and classes - the [documentation is here](https://docs.python.org/3/library/pickle.html)."
   ]
  }
 ],
 "metadata": {
  "kernelspec": {
   "display_name": "Python 3.8.5 ('base')",
   "language": "python",
   "name": "python3"
  },
  "language_info": {
   "codemirror_mode": {
    "name": "ipython",
    "version": 3
   },
   "file_extension": ".py",
   "mimetype": "text/x-python",
   "name": "python",
   "nbconvert_exporter": "python",
   "pygments_lexer": "ipython3",
   "version": "3.8.5"
  },
  "orig_nbformat": 4,
  "vscode": {
   "interpreter": {
    "hash": "c921a71fa7d5301530abc76a09084737c3fca4b7328b11bbb5dba4e94f78eaed"
   }
  }
 },
 "nbformat": 4,
 "nbformat_minor": 2
}
