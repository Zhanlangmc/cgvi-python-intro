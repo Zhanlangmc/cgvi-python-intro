{
 "cells": [
  {
   "cell_type": "markdown",
   "metadata": {},
   "source": [
    "### Exercise: Comma Separated Value Files\n",
    "\n",
    "You now know how to write text strings to a file. One very long-lived, but still very useful format for data are [Comma Separated Value (CSV)](https://en.wikipedia.org/wiki/Comma-separated_values) files. These can store tables of data, and are still supported by modern spreadsheet software (LibreOffice Calc, Excel, Google Sheets, Numbers etc.). They're often a good way to quickly save some data from a python script and later load it and process it in a spreadsheet program.\n",
    "\n",
    "The format of CSV files is super simple. They're just text files, and each entry in the table is separated from the next by a special character (usually a comma `,` or a semicolon `;`). Lines of the table are separated by newline characters. Here's a quick example:\n",
    "\n",
    "<code>\n",
    "Time, Temperature <br>\n",
    "0, 20 <br>\n",
    "1, 24 <br>\n",
    "2, 25 <br>\n",
    "3, 26 <br>\n",
    "4, 24 <br>\n",
    "</code>"
   ]
  },
  {
   "cell_type": "markdown",
   "metadata": {},
   "source": [
    "This example contains a table with two columns and 6 rows, with the headings and values shown. If you try saving this text to a file called e.g. `times.csv`, you should then be able to open it in your spreadsheet software of choice.\n",
    "\n",
    "Try saving some data about the performance of your current machine (CPU usage, memory usage etc.) to a CSV file, and then load it in Excel, or your software of choice. Then use the software to plot a line graph of the values over time. There's code to obtain this information available below.\n",
    "\n",
    "If you get an error related to importing `psutil`, you may be able to install it with `pip install psutil` (if you run into trouble with this try saving some other data)."
   ]
  },
  {
   "cell_type": "code",
   "execution_count": 2,
   "metadata": {},
   "outputs": [
    {
     "name": "stdout",
     "output_type": "stream",
     "text": [
      "Time, Cpu Usage, Memory Usage\n"
     ]
    }
   ],
   "source": [
    "import psutil\n",
    "import time\n",
    "from datetime import datetime\n",
    "\n",
    "# Open the file for writing - make sure to use \"w\" mode.\n",
    "with open(\"../output/cpu_info.csv\", \"w\") as file:\n",
    "    # Write the headings (e.g. \"Time, CPU Usage, Memory Usage\")\n",
    "    file.write(\"Time, CPU Usage, Memory Usage\\n\")\n",
    "\n",
    "    for i in range(10):\n",
    "        # Here's how to get some info about time, cpu usage and memory usage from psutil:\n",
    "        current_time = datetime.now().strftime(\"%H:%M:%S\")\n",
    "        cpu_usage = psutil.cpu_percent(interval=1)\n",
    "        percent_memory_used = psutil.virtual_memory().percent\n",
    "\n",
    "        # Here, save these values to your CSV file rather than just printing them.\n",
    "        file.write(\"%s, %f, %f\\n\" % (current_time, cpu_usage, percent_memory_used))"
   ]
  },
  {
   "cell_type": "markdown",
   "metadata": {},
   "source": [
    "After running this code I was able to load the csv file directly into excel, and plot line graphs:\n",
    "\n",
    "![Diagram](csv_excel.jpg)"
   ]
  }
 ],
 "metadata": {
  "kernelspec": {
   "display_name": "Python 3.8.5 ('base')",
   "language": "python",
   "name": "python3"
  },
  "language_info": {
   "codemirror_mode": {
    "name": "ipython",
    "version": 3
   },
   "file_extension": ".py",
   "mimetype": "text/x-python",
   "name": "python",
   "nbconvert_exporter": "python",
   "pygments_lexer": "ipython3",
   "version": "3.8.5"
  },
  "orig_nbformat": 4,
  "vscode": {
   "interpreter": {
    "hash": "c921a71fa7d5301530abc76a09084737c3fca4b7328b11bbb5dba4e94f78eaed"
   }
  }
 },
 "nbformat": 4,
 "nbformat_minor": 2
}
