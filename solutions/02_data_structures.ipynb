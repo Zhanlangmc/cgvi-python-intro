{
 "cells": [
  {
   "cell_type": "markdown",
   "metadata": {},
   "source": [
    "### Exercise: Operators and Lists\n",
    "\n",
    "In an exercise in the last notebook we saw that operators `+` and `*` can be applied to strings. They can also be applied to lists. \n",
    "\n",
    "Try doing this to the lists below - what do you predict will happen?\n",
    "\n",
    "Does multiplying a list by another list work? How about subtraction? Why do you think this is?"
   ]
  },
  {
   "cell_type": "code",
   "execution_count": 1,
   "metadata": {},
   "outputs": [
    {
     "name": "stdout",
     "output_type": "stream",
     "text": [
      "[0, 1, 2, 3, 4, 5]\n",
      "[0, 1, 2, 0, 1, 2]\n"
     ]
    },
    {
     "ename": "TypeError",
     "evalue": "unsupported operand type(s) for -: 'list' and 'list'",
     "output_type": "error",
     "traceback": [
      "\u001b[1;31m---------------------------------------------------------------------------\u001b[0m",
      "\u001b[1;31mTypeError\u001b[0m                                 Traceback (most recent call last)",
      "\u001b[1;32mf:\\local\\cgvi-python-intro\\solutions\\02_data_structures.ipynb Cell 2\u001b[0m in \u001b[0;36m<cell line: 13>\u001b[1;34m()\u001b[0m\n\u001b[0;32m     <a href='vscode-notebook-cell:/f%3A/local/cgvi-python-intro/solutions/02_data_structures.ipynb#X23sZmlsZQ%3D%3D?line=9'>10</a>\u001b[0m \u001b[39mprint\u001b[39m(list_a \u001b[39m*\u001b[39m \u001b[39m2\u001b[39m)\n\u001b[0;32m     <a href='vscode-notebook-cell:/f%3A/local/cgvi-python-intro/solutions/02_data_structures.ipynb#X23sZmlsZQ%3D%3D?line=11'>12</a>\u001b[0m \u001b[39m# Multiplying a list by another list, or subtracting lists results in a TypeError, as these operations don't really make sense:\u001b[39;00m\n\u001b[1;32m---> <a href='vscode-notebook-cell:/f%3A/local/cgvi-python-intro/solutions/02_data_structures.ipynb#X23sZmlsZQ%3D%3D?line=12'>13</a>\u001b[0m \u001b[39mprint\u001b[39m(list_a \u001b[39m-\u001b[39;49m list_b)\n\u001b[0;32m     <a href='vscode-notebook-cell:/f%3A/local/cgvi-python-intro/solutions/02_data_structures.ipynb#X23sZmlsZQ%3D%3D?line=13'>14</a>\u001b[0m \u001b[39mprint\u001b[39m(list_a \u001b[39m*\u001b[39m list_b)\n",
      "\u001b[1;31mTypeError\u001b[0m: unsupported operand type(s) for -: 'list' and 'list'"
     ]
    }
   ],
   "source": [
    "list_a = [0, 1, 2]\n",
    "list_b = [3, 4, 5]\n",
    "\n",
    "# Try adding the two lists\n",
    "# Adding the lists gives a new list, consisting of the two lists joined together\n",
    "print(list_a + list_b)\n",
    "\n",
    "# Try multiplying a list by an integer\n",
    "# Multiplying by an integer repeats the list that number of times\n",
    "print(list_a * 2)\n",
    "\n",
    "# Multiplying a list by another list, or subtracting lists results in a TypeError, as these operations don't really make sense:\n",
    "print(list_a - list_b)\n",
    "print(list_a * list_b)"
   ]
  }
 ],
 "metadata": {
  "kernelspec": {
   "display_name": "Python 3.8.5 ('base')",
   "language": "python",
   "name": "python3"
  },
  "language_info": {
   "codemirror_mode": {
    "name": "ipython",
    "version": 3
   },
   "file_extension": ".py",
   "mimetype": "text/x-python",
   "name": "python",
   "nbconvert_exporter": "python",
   "pygments_lexer": "ipython3",
   "version": "3.8.5"
  },
  "orig_nbformat": 4,
  "vscode": {
   "interpreter": {
    "hash": "c921a71fa7d5301530abc76a09084737c3fca4b7328b11bbb5dba4e94f78eaed"
   }
  }
 },
 "nbformat": 4,
 "nbformat_minor": 2
}
