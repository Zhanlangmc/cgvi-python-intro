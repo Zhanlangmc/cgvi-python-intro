{
 "cells": [
  {
   "cell_type": "markdown",
   "metadata": {},
   "source": [
    "### Exercise: Dot products and cosines\n",
    "\n",
    "One very useful property of the dot product allows us to find the angle between two vectors. For two vectors a and b,\n",
    "\n",
    "dot(a, b) = ||a|| ||b|| cos(theta)\n",
    "\n",
    "Here, ||a|| is the length of the vector a.\n",
    "\n",
    "This property is so fundamental that it's considered an [alternative definition of the dot product](https://en.wikipedia.org/wiki/Dot_product#Geometric_definition). It is widely used in lighting calculations for computer graphics.\n",
    "\n",
    "Use this property to find the angle between the two vectors (1,2,3) and (-3, 2, -1). You'll probably want to make use of the inverse cosine function (also known as arcos), which in numpy is `np.arccos()`."
   ]
  },
  {
   "cell_type": "code",
   "execution_count": 6,
   "metadata": {},
   "outputs": [
    {
     "name": "stdout",
     "output_type": "stream",
     "text": [
      "1.714143895700262\n"
     ]
    }
   ],
   "source": [
    "import numpy as np\n",
    "\n",
    "vector_a = np.array([1,2,3])\n",
    "vector_b = np.array([-3,2,-1])\n",
    "\n",
    "# Work out angle between these vectors, and print it.\n",
    "len_a = np.linalg.norm(vector_a)\n",
    "len_b = np.linalg.norm(vector_b)\n",
    "angle = np.arccos(np.dot(vector_a, vector_b) / (len_a * len_b))\n",
    "print(angle)"
   ]
  },
  {
   "cell_type": "markdown",
   "metadata": {},
   "source": [
    "### Exercise: Cross Product and Parallelograms\n",
    "\n",
    "Another property of the cross product of vectors a and b is that its magnitude (i.e. length) is equal to that of a parallelogram with the vectors a and b as two of the sides, as shown in this diagram (from [wikipedia](https://en.wikipedia.org/wiki/Cross_product#/media/File:Cross_product_parallelogram.svg))\n",
    "\n",
    "![Diagram](https://upload.wikimedia.org/wikipedia/commons/4/4e/Cross_product_parallelogram.svg)\n",
    "\n",
    "I'd like you to verify this for the vectors a and b below. Do this by dividing the parallelogram into two triangles, and working out the area of each. The length of the sides of these triangles will be ||a||, ||b|| and ||b - a||. To work out their area you may want to make use of [Heron's formula](https://en.wikipedia.org/wiki/Heron%27s_formula)."
   ]
  },
  {
   "cell_type": "code",
   "execution_count": 4,
   "metadata": {},
   "outputs": [
    {
     "name": "stdout",
     "output_type": "stream",
     "text": [
      "Area estimated with cross product 13.856406460551018\n",
      "Area estimated by finding triangle areas 13.856406460551018\n"
     ]
    }
   ],
   "source": [
    "import numpy as np\n",
    "\n",
    "vector_a = np.array([1,2,3])\n",
    "vector_b = np.array([-3,2,-1])\n",
    "\n",
    "cross_product = np.cross(vector_a, vector_b)\n",
    "cross_area = np.linalg.norm(cross_product) # This function works out the norm, i.e. the length of the vector in this case.\n",
    "\n",
    "print(\"Area estimated with cross product\", cross_area)\n",
    "\n",
    "# Work out the lengths of the 3 sides of the triangle\n",
    "# Find the area of each triangle using heron's formula\n",
    "# Double to get the parallelogram area.\n",
    "\n",
    "# Find length of each side\n",
    "len_a = np.linalg.norm(vector_a)\n",
    "len_b = np.linalg.norm(vector_b)\n",
    "len_c = np.linalg.norm(vector_b - vector_a)\n",
    "# Find semi-perimeter\n",
    "semi_perimeter = (len_a + len_b + len_c) / 2\n",
    "# Use heron's formula to find area of one of the triangles, and multiply by 2 to get the final answer.\n",
    "triangle_area = 2 * np.sqrt(semi_perimeter * (semi_perimeter - len_a) * (semi_perimeter - len_b) * (semi_perimeter - len_c)) \n",
    "\n",
    "## This should be the same as cross_area above.\n",
    "print(\"Area estimated by finding triangle areas\", triangle_area)"
   ]
  }
 ],
 "metadata": {
  "kernelspec": {
   "display_name": "Python 3.8.5 ('base')",
   "language": "python",
   "name": "python3"
  },
  "language_info": {
   "codemirror_mode": {
    "name": "ipython",
    "version": 3
   },
   "file_extension": ".py",
   "mimetype": "text/x-python",
   "name": "python",
   "nbconvert_exporter": "python",
   "pygments_lexer": "ipython3",
   "version": "3.8.5"
  },
  "orig_nbformat": 4,
  "vscode": {
   "interpreter": {
    "hash": "c921a71fa7d5301530abc76a09084737c3fca4b7328b11bbb5dba4e94f78eaed"
   }
  }
 },
 "nbformat": 4,
 "nbformat_minor": 2
}
