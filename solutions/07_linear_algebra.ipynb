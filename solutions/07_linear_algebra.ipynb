{
 "cells": [
  {
   "cell_type": "markdown",
   "metadata": {},
   "source": [
    "### Exercise: Dot products and cosines\n",
    "\n",
    "One very useful property of the dot product allows us to find the angle between two vectors. For two vectors a and b,\n",
    "\n",
    "dot(a, b) = ||a|| ||b|| cos(theta)\n",
    "\n",
    "Here, ||a|| is the length of the vector a.\n",
    "\n",
    "This property is so fundamental that it's considered an [alternative definition of the dot product](https://en.wikipedia.org/wiki/Dot_product#Geometric_definition). It is widely used in lighting calculations for computer graphics.\n",
    "\n",
    "Use this property to find the angle between the two vectors (1,2,3) and (-3, 2, -1). You'll probably want to make use of the inverse cosine function (also known as arcos), which in numpy is `np.arccos()`."
   ]
  },
  {
   "cell_type": "code",
   "execution_count": 6,
   "metadata": {},
   "outputs": [
    {
     "name": "stdout",
     "output_type": "stream",
     "text": [
      "1.714143895700262\n"
     ]
    }
   ],
   "source": [
    "import numpy as np\n",
    "\n",
    "vector_a = np.array([1,2,3])\n",
    "vector_b = np.array([-3,2,-1])\n",
    "\n",
    "# Work out angle between these vectors, and print it.\n",
    "len_a = np.linalg.norm(vector_a)\n",
    "len_b = np.linalg.norm(vector_b)\n",
    "angle = np.arccos(np.dot(vector_a, vector_b) / (len_a * len_b))\n",
    "print(angle)"
   ]
  },
  {
   "cell_type": "markdown",
   "metadata": {},
   "source": [
    "### Exercise: Cross Product and Parallelograms\n",
    "\n",
    "Another property of the cross product of vectors a and b is that its magnitude (i.e. length) is equal to that of a parallelogram with the vectors a and b as two of the sides, as shown in this diagram (from [wikipedia](https://en.wikipedia.org/wiki/Cross_product#/media/File:Cross_product_parallelogram.svg))\n",
    "\n",
    "![Diagram](https://upload.wikimedia.org/wikipedia/commons/4/4e/Cross_product_parallelogram.svg)\n",
    "\n",
    "I'd like you to verify this for the vectors a and b below. Do this by dividing the parallelogram into two triangles, and working out the area of each. The length of the sides of these triangles will be ||a||, ||b|| and ||b - a||. To work out their area you may want to make use of [Heron's formula](https://en.wikipedia.org/wiki/Heron%27s_formula)."
   ]
  },
  {
   "cell_type": "code",
   "execution_count": 4,
   "metadata": {},
   "outputs": [
    {
     "name": "stdout",
     "output_type": "stream",
     "text": [
      "Area estimated with cross product 13.856406460551018\n",
      "Area estimated by finding triangle areas 13.856406460551018\n"
     ]
    }
   ],
   "source": [
    "import numpy as np\n",
    "\n",
    "vector_a = np.array([1,2,3])\n",
    "vector_b = np.array([-3,2,-1])\n",
    "\n",
    "cross_product = np.cross(vector_a, vector_b)\n",
    "cross_area = np.linalg.norm(cross_product) # This function works out the norm, i.e. the length of the vector in this case.\n",
    "\n",
    "print(\"Area estimated with cross product\", cross_area)\n",
    "\n",
    "# Work out the lengths of the 3 sides of the triangle\n",
    "# Find the area of each triangle using heron's formula\n",
    "# Double to get the parallelogram area.\n",
    "\n",
    "# Find length of each side\n",
    "len_a = np.linalg.norm(vector_a)\n",
    "len_b = np.linalg.norm(vector_b)\n",
    "len_c = np.linalg.norm(vector_b - vector_a)\n",
    "# Find semi-perimeter\n",
    "semi_perimeter = (len_a + len_b + len_c) / 2\n",
    "# Use heron's formula to find area of one of the triangles, and multiply by 2 to get the final answer.\n",
    "triangle_area = 2 * np.sqrt(semi_perimeter * (semi_perimeter - len_a) * (semi_perimeter - len_b) * (semi_perimeter - len_c)) \n",
    "\n",
    "## This should be the same as cross_area above.\n",
    "print(\"Area estimated by finding triangle areas\", triangle_area)"
   ]
  },
  {
   "cell_type": "markdown",
   "metadata": {},
   "source": [
    "### Exercise - Pseudoinverse\n",
    "\n",
    "Non-square matrices don't have true inverses, but the SVD can be used to find a pseudoinverse (also called the [Moore-Penrose Inverse](https://en.wikipedia.org/wiki/Moore%E2%80%93Penrose_inverse)) of any matrix. This has important applications in solving least-squares problems, amongst other things.\n",
    "\n",
    "For a matrix `A`, the pseudoinverse `pinv(A)` doesn't behave exactly like a true inverse, but does satisfy some conditions:\n",
    "\n",
    "1. `A @ pinv(A) @ A == A`\n",
    "2. `pinv(A) @ A @ pinv(A) == pinv(A)`\n",
    "3. `pinv(A) @ A == I` *only* if the columns of A are linearly independent\n",
    "4. `A @ pinv(A) == I` *only* if the rows of A are linearly independent\n",
    "\n",
    "Look up the formula to compute the pseudoinverse of the matrix here, and check these conditions hold."
   ]
  },
  {
   "cell_type": "code",
   "execution_count": 25,
   "metadata": {},
   "outputs": [
    {
     "name": "stdout",
     "output_type": "stream",
     "text": [
      "The matrix pseudo inverse is\n",
      " [[-1.33333333 -0.33333333  0.66666667]\n",
      " [ 0.83333333  0.33333333 -0.16666667]]\n"
     ]
    }
   ],
   "source": [
    "import numpy as np\n",
    "\n",
    "matrix = np.array([\n",
    "    [0, 1],\n",
    "    [1, 2],\n",
    "    [2, 3]\n",
    "])\n",
    "\n",
    "u, s, vt = np.linalg.svd(matrix)\n",
    "\n",
    "# Construct the matrix sigma\n",
    "sigma = np.zeros((u.shape[1], s.shape[0]))\n",
    "for i in range(s.shape[0]):\n",
    "    sigma[i, i] = s[i]\n",
    "\n",
    "# Find the pseudoinverse of matrix\n",
    "# Find pseudoinverse of sigma\n",
    "sigmapinv = sigma.transpose()\n",
    "# Replace nonzero elements with multiplicative inverse\n",
    "sigmapinv[sigmapinv != 0] = 1 / sigmapinv[sigmapinv != 0]\n",
    "# Now compute the pseudoinverse of matrix\n",
    "matrixpinv = vt.transpose() @ sigmapinv @ u.transpose()\n",
    "print(\"The matrix pseudo inverse is\\n\", matrixpinv)\n",
    "\n"
   ]
  },
  {
   "cell_type": "code",
   "execution_count": 24,
   "metadata": {},
   "outputs": [
    {
     "name": "stdout",
     "output_type": "stream",
     "text": [
      "Checking condition 1\n",
      "matrix @ pinv(matrix) @ matrix\n",
      " [[-1.66533454e-16  1.00000000e+00]\n",
      " [ 1.00000000e+00  2.00000000e+00]\n",
      " [ 2.00000000e+00  3.00000000e+00]]\n",
      "(matrix @ pinv(matrix) @ matrix) == matrix: True\n",
      "\n",
      "Checking condition 2\n",
      "pinv(matrix) @ matrix @ pinv(matrix)\n",
      " [[-1.33333333 -0.33333333  0.66666667]\n",
      " [ 0.83333333  0.33333333 -0.16666667]]\n",
      "(pinv(matrix) @ matrix @ pinv(matrix)) == matrix: True\n",
      "\n",
      "Checking condition 3\n",
      "pinv(matrix) @ matrix\n",
      " [[ 1.00000000e+00  0.00000000e+00]\n",
      " [-1.66533454e-16  1.00000000e+00]]\n",
      "pinv(matrix) @ matrix == I: True\n",
      "\n",
      "Checking condition 4\n",
      "matrix @ pinv(matrix)\n",
      " [[ 0.83333333  0.33333333 -0.16666667]\n",
      " [ 0.33333333  0.33333333  0.33333333]\n",
      " [-0.16666667  0.33333333  0.83333333]]\n",
      "(matrix @ pinv(matrix)) == I: False\n",
      "\n",
      "Linear combination: [2 3]\n",
      "Checking if row 2 is a linear combination of rows 0 and 1: True\n"
     ]
    }
   ],
   "source": [
    "\n",
    "# Test the 4 conditions\n",
    "print(\"Checking condition 1\")\n",
    "print(\"matrix @ pinv(matrix) @ matrix\\n\", matrix @ matrixpinv @ matrix)\n",
    "print(\"(matrix @ pinv(matrix) @ matrix) == matrix:\", np.allclose(matrix @ matrixpinv @ matrix, matrix))\n",
    "print()\n",
    "print(\"Checking condition 2\")\n",
    "print(\"pinv(matrix) @ matrix @ pinv(matrix)\\n\", matrixpinv @ matrix @ matrixpinv)\n",
    "print(\"(pinv(matrix) @ matrix @ pinv(matrix)) == matrix:\", np.allclose(matrixpinv @ matrix @ matrixpinv, matrixpinv))\n",
    "print()\n",
    "print(\"Checking condition 3\")\n",
    "print(\"pinv(matrix) @ matrix\\n\", matrixpinv @ matrix)\n",
    "print(\"pinv(matrix) @ matrix == I:\", np.allclose(matrixpinv @ matrix, np.eye(2)))\n",
    "# Condition 3 does hold, as the columns are linearly independent\n",
    "print()\n",
    "print(\"Checking condition 4\")\n",
    "print(\"matrix @ pinv(matrix)\\n\", matrix @ matrixpinv)\n",
    "print(\"(matrix @ pinv(matrix)) == I:\", np.allclose(matrix @ matrixpinv, np.eye(3)))\n",
    "# Note condition 4 does not hold\n",
    "# This is because the rows aren't linearly independent\n",
    "# It's not possible to have more than 2 vectors that are linearly independent in 2D\n",
    "# Or more specifically, you can express row 2 as a linear combination of rows 0 and 1, like this:\n",
    "print()\n",
    "print(\"Linear combination:\", -matrix[0,:] + 2*matrix[1,:])\n",
    "print(\"Checking if row 2 is a linear combination of rows 0 and 1:\", np.allclose(-matrix[0,:] + 2*matrix[1,:], matrix[2,:]))\n",
    "# Generally, if your matrix isn't square at most one of conditions 3 & 4 can hold"
   ]
  }
 ],
 "metadata": {
  "kernelspec": {
   "display_name": "Python 3.8.5 ('base')",
   "language": "python",
   "name": "python3"
  },
  "language_info": {
   "codemirror_mode": {
    "name": "ipython",
    "version": 3
   },
   "file_extension": ".py",
   "mimetype": "text/x-python",
   "name": "python",
   "nbconvert_exporter": "python",
   "pygments_lexer": "ipython3",
   "version": "3.8.5"
  },
  "orig_nbformat": 4,
  "vscode": {
   "interpreter": {
    "hash": "c921a71fa7d5301530abc76a09084737c3fca4b7328b11bbb5dba4e94f78eaed"
   }
  }
 },
 "nbformat": 4,
 "nbformat_minor": 2
}
