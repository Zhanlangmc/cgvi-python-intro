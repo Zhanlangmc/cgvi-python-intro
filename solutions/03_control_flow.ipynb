{
 "cells": [
  {
   "cell_type": "markdown",
   "metadata": {},
   "source": [
    "### Exercise: The Fibonnacci Sequence\n",
    "\n",
    "You might be familiar with the [Fibonnacci sequence](https://en.wikipedia.org/wiki/Fibonacci_number) - a sequence generated with a very simple update rule, with surprising links to biology and the natural world.\n",
    "\n",
    "This follows a very simple update rule - the first two terms are:\n",
    "\n",
    "`f_0 = 0`\n",
    "\n",
    "`f_1 = 1`\n",
    "\n",
    "The remaining terms are generated according to the rule:\n",
    "\n",
    "`f_n = f_n-1 + f_n-2`\n",
    "\n",
    "Write a script to generate all Fibonnacci numbers under 100 using a `while` loop. Then use a `for` loop to print the first 21 Fibonnacci numbers. Print each number in turn. You can use the table on [the Wikipedia page](https://en.wikipedia.org/wiki/Fibonacci_number) to check your code is correct."
   ]
  },
  {
   "cell_type": "code",
   "execution_count": 8,
   "metadata": {},
   "outputs": [
    {
     "name": "stdout",
     "output_type": "stream",
     "text": [
      "0\n",
      "1\n",
      "1\n",
      "1\n",
      "2\n",
      "3\n",
      "5\n",
      "8\n",
      "13\n",
      "21\n",
      "34\n",
      "55\n",
      "89\n"
     ]
    }
   ],
   "source": [
    "max_val = 100\n",
    "\n",
    "# Write code using a while loop to print out Fibonnacci numbers less than `max_val`:\n",
    "\n",
    "# Print the first 2 values (these are defined to be 0 and 1)\n",
    "print(0)\n",
    "print(1)\n",
    "\n",
    "prev_prev_val = 0\n",
    "prev_val = 1\n",
    "\n",
    "curr_val = prev_prev_val + prev_val\n",
    "\n",
    "while curr_val < max_val:\n",
    "    print(curr_val)\n",
    "\n",
    "    curr_val = prev_prev_val + prev_val\n",
    "    prev_prev_val = prev_val\n",
    "    prev_val = curr_val"
   ]
  },
  {
   "cell_type": "code",
   "execution_count": null,
   "metadata": {},
   "outputs": [],
   "source": [
    "\n",
    "num_vals = 21\n",
    "\n",
    "# Write code using a for loop to print out `num_vals` Fibonnacci numbers:\n",
    "\n",
    "# Print the first 2 values (these are defined to be 0 and 1)\n",
    "print(0)\n",
    "print(1)\n",
    "\n",
    "# These variables store the previous two Fibonnacci values.\n",
    "prev_prev_val = 0 \n",
    "prev_val = 1\n",
    "for i in range(num_vals-2):\n",
    "    curr_val = prev_prev_val + prev_val # This is the update f_n = f_n-1 + f_n-2\n",
    "    print(curr_val) # Print the current Fibonnacci value.\n",
    "    # Now update the previous values\n",
    "    prev_prev_val = prev_val \n",
    "    prev_val = curr_val \n"
   ]
  },
  {
   "cell_type": "markdown",
   "metadata": {},
   "source": [
    "### Exercise: The Sieve of Erastosthenes\n",
    "\n",
    "The [Sieve of Erastosthenes](https://en.wikipedia.org/wiki/Sieve_of_Eratosthenes) is an extremely old (2000 years +) algorithm to find all prime numbers below a given number. The name refers to how it starts with a list of all integers under a certain value, and gradually eliminates non-prime numbers from the list (sifting them out, like using a sieve).\n",
    "\n",
    "Try to implement the Sieve of Erastosthenes, and find all prime numbers under 30. See the [wikipedia page](https://en.wikipedia.org/wiki/Sieve_of_Eratosthenes) for a description of the algorithm\n",
    "\n",
    "Here are some tips to get you started:\n",
    "\n",
    "* To check if one number divides another, use the modulo operator `%`. For example, if `a` is divisible by `b`, then `a % b == 0` will be `True`.\n",
    "* I'd suggest keeping a list indicating which numbers are maybe prime, and which you've eliminated. This could be a list of boolean values, which start off as all `True`.\n",
    "* As the wikipedia page notes, you can stop once your divisor is at least `sqrt(120)` (use the `math.sqrt()` function, you'll have to `import math` first)."
   ]
  },
  {
   "cell_type": "code",
   "execution_count": 5,
   "metadata": {},
   "outputs": [
    {
     "name": "stdout",
     "output_type": "stream",
     "text": [
      "Prime numbers under 30:\n",
      "2\n",
      "3\n",
      "5\n",
      "7\n",
      "11\n",
      "13\n",
      "17\n",
      "19\n",
      "23\n",
      "29\n"
     ]
    }
   ],
   "source": [
    "import math\n",
    "\n",
    "max_val = 30\n",
    "\n",
    "# Implement the Sieve of Erastosthenes\n",
    "number_is_prime = [True for i in range(max_val + 1)] # This makes a List containting 31 True values. See List comprehensions below for more detail.\n",
    "\n",
    "# 0 and 1 are not prime, set these to false\n",
    "number_is_prime[0] = False \n",
    "number_is_prime[1] = False  \n",
    "\n",
    "# Implement the algorithm here, and set the other non-prime values to False\n",
    "max_divisor = math.sqrt(max_val)\n",
    "\n",
    "curr_divisor = 2 # We start off with 2, the smallest prime\n",
    "\n",
    "while curr_divisor < max_divisor: # Work up to the max divisor.\n",
    "    # We can skip the current divisor if it isn't prime.\n",
    "    if not[number_is_prime[curr_divisor]]:\n",
    "        continue #Remember that continue goes to the next iteration.\n",
    "\n",
    "    # Try dividing all the numbers in our list that are greater than curr_divisor\n",
    "    # Be careful - we want to start at curr_divisor+1 as we don't want to cross off the current divisor value.\n",
    "    # We finish at max_val+2 as our list is max_val+1 entries long, and ranges don't include the final value.\n",
    "    for number in range(curr_divisor+1, max_val+2): \n",
    "        if number % curr_divisor == 0: # Check if our divisor cleanly divides this number\n",
    "            number_is_prime[number] = False # It does, so cross off this number.\n",
    "\n",
    "    curr_divisor += 1 # Skip to the next divisor.\n",
    "\n",
    "# Print out your results\n",
    "print(\"Prime numbers under %d:\" % max_val)\n",
    "for i, is_prime in enumerate(number_is_prime):\n",
    "    if is_prime:\n",
    "        print(i)"
   ]
  }
 ],
 "metadata": {
  "kernelspec": {
   "display_name": "Python 3.8.5 ('base')",
   "language": "python",
   "name": "python3"
  },
  "language_info": {
   "codemirror_mode": {
    "name": "ipython",
    "version": 3
   },
   "file_extension": ".py",
   "mimetype": "text/x-python",
   "name": "python",
   "nbconvert_exporter": "python",
   "pygments_lexer": "ipython3",
   "version": "3.8.5"
  },
  "orig_nbformat": 4,
  "vscode": {
   "interpreter": {
    "hash": "c921a71fa7d5301530abc76a09084737c3fca4b7328b11bbb5dba4e94f78eaed"
   }
  }
 },
 "nbformat": 4,
 "nbformat_minor": 2
}
