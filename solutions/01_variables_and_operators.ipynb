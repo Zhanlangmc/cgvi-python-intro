{
 "cells": [
  {
   "cell_type": "markdown",
   "metadata": {},
   "source": [
    "#### Exercise: Testing Operators on Strings\n",
    "\n",
    "Operators like `+` and `*` can also be applied to other datatypes, like `str`. Here I'd encourage you to test this out, and understand how they are used.\n",
    "\n",
    "Try adding together two strings with the `+` operator - what is the result?"
   ]
  },
  {
   "cell_type": "code",
   "execution_count": 1,
   "metadata": {},
   "outputs": [
    {
     "name": "stdout",
     "output_type": "stream",
     "text": [
      "Hello, world!\n"
     ]
    }
   ],
   "source": [
    "# The + operator joins two strings together, to make a new string:\n",
    "print(\"Hello, \" + \"world!\")"
   ]
  },
  {
   "cell_type": "markdown",
   "metadata": {},
   "source": [
    "Now try multiplying a string by a number. What happens if you use an integer, like `10`? What happens if you use a floating-point value like `10.1`?"
   ]
  },
  {
   "cell_type": "code",
   "execution_count": 2,
   "metadata": {},
   "outputs": [
    {
     "name": "stdout",
     "output_type": "stream",
     "text": [
      "aaaaaaaaaa\n"
     ]
    }
   ],
   "source": [
    "# The * operator, with an integer and a string, repeats the string the specified number of times.\n",
    "print(\"a\" * 10) # This is 10 \"a\"s in a row"
   ]
  },
  {
   "cell_type": "code",
   "execution_count": 3,
   "metadata": {},
   "outputs": [
    {
     "ename": "TypeError",
     "evalue": "can't multiply sequence by non-int of type 'float'",
     "output_type": "error",
     "traceback": [
      "\u001b[1;31m---------------------------------------------------------------------------\u001b[0m",
      "\u001b[1;31mTypeError\u001b[0m                                 Traceback (most recent call last)",
      "\u001b[1;32mf:\\local\\cgvi-python-intro\\solutions\\01_variables_and_operators.ipynb Cell 5\u001b[0m in \u001b[0;36m<cell line: 3>\u001b[1;34m()\u001b[0m\n\u001b[0;32m      <a href='vscode-notebook-cell:/f%3A/local/cgvi-python-intro/solutions/01_variables_and_operators.ipynb#W5sZmlsZQ%3D%3D?line=0'>1</a>\u001b[0m \u001b[39m# With a floating-point value you get a TypeError, because multiplying a string by a non-integer value doesn't make sense\u001b[39;00m\n\u001b[0;32m      <a href='vscode-notebook-cell:/f%3A/local/cgvi-python-intro/solutions/01_variables_and_operators.ipynb#W5sZmlsZQ%3D%3D?line=1'>2</a>\u001b[0m \u001b[39m# What is 0.1 of the string \"a\" anyway?\u001b[39;00m\n\u001b[1;32m----> <a href='vscode-notebook-cell:/f%3A/local/cgvi-python-intro/solutions/01_variables_and_operators.ipynb#W5sZmlsZQ%3D%3D?line=2'>3</a>\u001b[0m \u001b[39m10.1\u001b[39;49m \u001b[39m*\u001b[39;49m \u001b[39m\"\u001b[39;49m\u001b[39ma\u001b[39;49m\u001b[39m\"\u001b[39;49m\n",
      "\u001b[1;31mTypeError\u001b[0m: can't multiply sequence by non-int of type 'float'"
     ]
    }
   ],
   "source": [
    "# With a floating-point value you get a TypeError, because multiplying a string by a non-integer value doesn't make sense\n",
    "# What is 0.1 of the string \"a\" anyway?\n",
    "10.1 * \"a\""
   ]
  }
 ],
 "metadata": {
  "kernelspec": {
   "display_name": "Python 3.8.5 ('base')",
   "language": "python",
   "name": "python3"
  },
  "language_info": {
   "codemirror_mode": {
    "name": "ipython",
    "version": 3
   },
   "file_extension": ".py",
   "mimetype": "text/x-python",
   "name": "python",
   "nbconvert_exporter": "python",
   "pygments_lexer": "ipython3",
   "version": "3.8.5"
  },
  "orig_nbformat": 4,
  "vscode": {
   "interpreter": {
    "hash": "c921a71fa7d5301530abc76a09084737c3fca4b7328b11bbb5dba4e94f78eaed"
   }
  }
 },
 "nbformat": 4,
 "nbformat_minor": 2
}
