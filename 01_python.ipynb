{
 "cells": [
  {
   "cell_type": "markdown",
   "source": [
    "# Introduction to Python\r\n",
    "\r\n",
    "This notebook will give a quick introduction to the Python programming language, explaining variables, data structures, control flow, functions and some other useful techniques."
   ],
   "metadata": {}
  },
  {
   "cell_type": "markdown",
   "source": [
    "## 1. Variables\r\n",
    "\r\n",
    "A variable can be defined simply by assigning a value to it, for example:"
   ],
   "metadata": {}
  },
  {
   "cell_type": "code",
   "execution_count": 8,
   "source": [
    "integer_variable = 10\r\n",
    "float_variable = 20.0\r\n",
    "string_variable = \"Hello, world\""
   ],
   "outputs": [],
   "metadata": {}
  },
  {
   "cell_type": "markdown",
   "source": [
    "If a variable is used before it has been defined, you will get a NameError:"
   ],
   "metadata": {}
  },
  {
   "cell_type": "code",
   "execution_count": 9,
   "source": [
    "variable = not_yet_created"
   ],
   "outputs": [
    {
     "output_type": "error",
     "ename": "NameError",
     "evalue": "name 'not_yet_created' is not defined",
     "traceback": [
      "\u001b[1;31m---------------------------------------------------------------------------\u001b[0m",
      "\u001b[1;31mNameError\u001b[0m                                 Traceback (most recent call last)",
      "\u001b[1;32m<ipython-input-9-09da5df41336>\u001b[0m in \u001b[0;36m<module>\u001b[1;34m\u001b[0m\n\u001b[1;32m----> 1\u001b[1;33m \u001b[0mvariable\u001b[0m \u001b[1;33m=\u001b[0m \u001b[0mnot_yet_created\u001b[0m\u001b[1;33m\u001b[0m\u001b[1;33m\u001b[0m\u001b[0m\n\u001b[0m",
      "\u001b[1;31mNameError\u001b[0m: name 'not_yet_created' is not defined"
     ]
    }
   ],
   "metadata": {}
  },
  {
   "cell_type": "markdown",
   "source": [
    "It is also possible to delete variables using the `del` keyword, although this is most often not necessary."
   ],
   "metadata": {}
  },
  {
   "cell_type": "code",
   "execution_count": 10,
   "source": [
    "del integer_variable\r\n",
    "print(integer_variable) # Now the variable has been deleted, this will throw a NameError."
   ],
   "outputs": [
    {
     "output_type": "error",
     "ename": "NameError",
     "evalue": "name 'integer_variable' is not defined",
     "traceback": [
      "\u001b[1;31m---------------------------------------------------------------------------\u001b[0m",
      "\u001b[1;31mNameError\u001b[0m                                 Traceback (most recent call last)",
      "\u001b[1;32m<ipython-input-10-e315e8f6433d>\u001b[0m in \u001b[0;36m<module>\u001b[1;34m\u001b[0m\n\u001b[0;32m      1\u001b[0m \u001b[1;32mdel\u001b[0m \u001b[0minteger_variable\u001b[0m\u001b[1;33m\u001b[0m\u001b[1;33m\u001b[0m\u001b[0m\n\u001b[1;32m----> 2\u001b[1;33m \u001b[0mprint\u001b[0m\u001b[1;33m(\u001b[0m\u001b[0minteger_variable\u001b[0m\u001b[1;33m)\u001b[0m \u001b[1;31m# Now the variable has been deleted, this will throw a NameError.\u001b[0m\u001b[1;33m\u001b[0m\u001b[1;33m\u001b[0m\u001b[0m\n\u001b[0m",
      "\u001b[1;31mNameError\u001b[0m: name 'integer_variable' is not defined"
     ]
    }
   ],
   "metadata": {}
  },
  {
   "cell_type": "markdown",
   "source": [
    "Variables can have a number of different datatypes, which you can query using the `type()` function:"
   ],
   "metadata": {}
  },
  {
   "cell_type": "code",
   "execution_count": null,
   "source": [
    "integer_variable = 10\r\n",
    "print(type(integer_variable))\r\n",
    "\r\n",
    "float_variable = 20.0\r\n",
    "print(type(float_variable))\r\n",
    "\r\n",
    "string_variable = \"Hello, world\"\r\n",
    "print(type(string_variable))\r\n",
    "\r\n",
    "boolean_variable = True\r\n",
    "print(type(boolean_variable))"
   ],
   "outputs": [
    {
     "output_type": "stream",
     "name": "stdout",
     "text": [
      "<class 'int'>\n",
      "<class 'float'>\n",
      "<class 'str'>\n",
      "<class 'bool'>\n"
     ]
    }
   ],
   "metadata": {}
  },
  {
   "cell_type": "markdown",
   "source": [
    "There is a special value `None` which is used to indicate that a variable has no value (similar to `null` in other languages).\r\n",
    "\r\n",
    "Note that a variable having a value of `None` is not the same as it not being defined. You won't get a `NameError` when using a variable set to `None`."
   ],
   "metadata": {}
  },
  {
   "cell_type": "code",
   "execution_count": null,
   "source": [
    "my_variable = None\r\n",
    "print(my_variable)\r\n",
    "print(type(my_variable))"
   ],
   "outputs": [
    {
     "output_type": "stream",
     "name": "stdout",
     "text": [
      "None\n",
      "<class 'NoneType'>\n"
     ]
    }
   ],
   "metadata": {}
  },
  {
   "cell_type": "markdown",
   "source": [
    "## 2. Data structures\r\n",
    "\r\n",
    "You've seen some of the basic data types such as `int`, `float` and `str` above. When we want to store large numbers of these in a structured way, we can use the data structures built in to python.\r\n",
    "\r\n",
    "The two most commonly used data structures are the list and the dict."
   ],
   "metadata": {}
  },
  {
   "cell_type": "markdown",
   "source": [
    "### Lists\r\n",
    "\r\n",
    "A list stores a one-dimensional array of variables, and behaves similarly to arrays in other languages such as C.\r\n",
    "\r\n",
    "A list can be declared by listing values between square brackets, separated by commas:"
   ],
   "metadata": {}
  },
  {
   "cell_type": "code",
   "execution_count": null,
   "source": [
    "my_list = [0, 1, 2, 3]"
   ],
   "outputs": [],
   "metadata": {}
  },
  {
   "cell_type": "markdown",
   "source": [
    "You can access elements of a list by providing an index between square brackets"
   ],
   "metadata": {}
  },
  {
   "cell_type": "code",
   "execution_count": null,
   "source": [
    "print(my_list[0])\r\n",
    "print(my_list[2])"
   ],
   "outputs": [],
   "metadata": {}
  },
  {
   "cell_type": "markdown",
   "source": [
    "Note that python is zero-indexed - the first item in this list is item 0, and the last item is item 3.\r\n",
    "\r\n",
    "If you try to access item 4, this will throw an `IndexError` as this list has no fourth element:"
   ],
   "metadata": {}
  },
  {
   "cell_type": "code",
   "execution_count": null,
   "source": [
    "print(my_list[4])"
   ],
   "outputs": [
    {
     "output_type": "error",
     "ename": "IndexError",
     "evalue": "list index out of range",
     "traceback": [
      "\u001b[1;31m---------------------------------------------------------------------------\u001b[0m",
      "\u001b[1;31mIndexError\u001b[0m                                Traceback (most recent call last)",
      "\u001b[1;32m<ipython-input-9-df42a28462c1>\u001b[0m in \u001b[0;36m<module>\u001b[1;34m\u001b[0m\n\u001b[1;32m----> 1\u001b[1;33m \u001b[0mprint\u001b[0m\u001b[1;33m(\u001b[0m\u001b[0mmy_list\u001b[0m\u001b[1;33m[\u001b[0m\u001b[1;36m4\u001b[0m\u001b[1;33m]\u001b[0m\u001b[1;33m)\u001b[0m\u001b[1;33m\u001b[0m\u001b[1;33m\u001b[0m\u001b[0m\n\u001b[0m",
      "\u001b[1;31mIndexError\u001b[0m: list index out of range"
     ]
    }
   ],
   "metadata": {}
  },
  {
   "cell_type": "markdown",
   "source": [
    "The special index `-1` will return the final element in the list.\r\n",
    "\r\n",
    "You can also use other negative indices to return the second to last element `-2`, the third to last `-3` and so on."
   ],
   "metadata": {}
  },
  {
   "cell_type": "code",
   "execution_count": null,
   "source": [
    "print(my_list[-1])\r\n",
    "print(my_list[-2])"
   ],
   "outputs": [
    {
     "output_type": "stream",
     "name": "stdout",
     "text": [
      "3\n",
      "2\n"
     ]
    }
   ],
   "metadata": {}
  },
  {
   "cell_type": "markdown",
   "source": [
    "You can add an item to the end of the list using `append()` which will make it one element longer:"
   ],
   "metadata": {}
  },
  {
   "cell_type": "code",
   "execution_count": null,
   "source": [
    "print(\"The list has length\", len(my_list))\r\n",
    "my_list.append(4)\r\n",
    "print(\"The list has length\", len(my_list))\r\n",
    "print(my_list)"
   ],
   "outputs": [
    {
     "output_type": "stream",
     "name": "stdout",
     "text": [
      "The list has length 4\n",
      "The list has length 5\n",
      "[0, 1, 2, 3, 4]\n"
     ]
    }
   ],
   "metadata": {}
  },
  {
   "cell_type": "markdown",
   "source": [
    "You can extract part of a list using a \"slice\". There are some examples of slices below:"
   ],
   "metadata": {}
  },
  {
   "cell_type": "code",
   "execution_count": null,
   "source": [
    "print(\"The whole list:\", my_list[:])\r\n",
    "print(\"Elements in the list from 1 to 3:\", my_list[1:3])\r\n",
    "print(\"Elements in the list up to the second-last element:\", my_list[:-2])\r\n",
    "print(\"Elements in the list from 1 onwards:\", my_list[1:])"
   ],
   "outputs": [
    {
     "output_type": "stream",
     "name": "stdout",
     "text": [
      "The whole list: [0, 1, 2, 3, 4]\n",
      "Elements in the list from 1 to 3: [1, 2]\n",
      "Elements in the list up to the second-last element: [0, 1, 2]\n",
      "Elements in the list from 1 onwards: [1, 2, 3, 4]\n"
     ]
    }
   ],
   "metadata": {}
  },
  {
   "cell_type": "markdown",
   "source": [
    "Unlike languages such as C, a list can contain a mixture of data types:"
   ],
   "metadata": {}
  },
  {
   "cell_type": "code",
   "execution_count": null,
   "source": [
    "my_mixed_list = [0, \"hello\", 1.0, False, None]\r\n",
    "print(my_mixed_list)"
   ],
   "outputs": [
    {
     "output_type": "stream",
     "name": "stdout",
     "text": [
      "[0, 'hello', 1.0, False, None]\n"
     ]
    }
   ],
   "metadata": {}
  },
  {
   "cell_type": "markdown",
   "source": [
    "### Dicts\r\n",
    "\r\n",
    "Dict is short for dictionary. Dicts work a bit like lists, except that rather than using integers to index elements in the structure, dicts use strings."
   ],
   "metadata": {}
  },
  {
   "cell_type": "code",
   "execution_count": null,
   "source": [
    "my_dict = {\"string_1\": 1, \"string_2\": 2}\r\n",
    "print(my_dict)"
   ],
   "outputs": [
    {
     "output_type": "stream",
     "name": "stdout",
     "text": [
      "{'string_1': 1, 'string_2': 2}\n"
     ]
    }
   ],
   "metadata": {}
  },
  {
   "cell_type": "markdown",
   "source": [
    "Just like lists, you can access elements using square brackets. However to access an element of a dict you provide the right string. These strings are referred to as \"keys\" and the items stored in the dict are known as \"values\"."
   ],
   "metadata": {}
  },
  {
   "cell_type": "code",
   "execution_count": null,
   "source": [
    "print(my_dict[\"string_1\"])\r\n",
    "print(my_dict[\"string_2\"])"
   ],
   "outputs": [
    {
     "output_type": "stream",
     "name": "stdout",
     "text": [
      "1\n",
      "2\n"
     ]
    }
   ],
   "metadata": {}
  },
  {
   "cell_type": "markdown",
   "source": [
    "Just like lists if you try to access something that isn't in the dict, you will get an error (this time, a `KeyError`):"
   ],
   "metadata": {}
  },
  {
   "cell_type": "code",
   "execution_count": null,
   "source": [
    "print(my_dict[\"string_3\"])"
   ],
   "outputs": [
    {
     "output_type": "error",
     "ename": "KeyError",
     "evalue": "'string_3'",
     "traceback": [
      "\u001b[1;31m---------------------------------------------------------------------------\u001b[0m",
      "\u001b[1;31mKeyError\u001b[0m                                  Traceback (most recent call last)",
      "\u001b[1;32m<ipython-input-23-efdd58018dfe>\u001b[0m in \u001b[0;36m<module>\u001b[1;34m\u001b[0m\n\u001b[1;32m----> 1\u001b[1;33m \u001b[0mprint\u001b[0m\u001b[1;33m(\u001b[0m\u001b[0mmy_dict\u001b[0m\u001b[1;33m[\u001b[0m\u001b[1;34m\"string_3\"\u001b[0m\u001b[1;33m]\u001b[0m\u001b[1;33m)\u001b[0m\u001b[1;33m\u001b[0m\u001b[1;33m\u001b[0m\u001b[0m\n\u001b[0m",
      "\u001b[1;31mKeyError\u001b[0m: 'string_3'"
     ]
    }
   ],
   "metadata": {}
  },
  {
   "cell_type": "markdown",
   "source": [
    "Adding new elements to a dict is straightforward:"
   ],
   "metadata": {}
  },
  {
   "cell_type": "code",
   "execution_count": null,
   "source": [
    "my_dict[\"string_3\"] = 3\r\n",
    "print(my_dict)"
   ],
   "outputs": [
    {
     "output_type": "stream",
     "name": "stdout",
     "text": [
      "{'string_1': 1, 'string_2': 2, 'string_3': 3}\n"
     ]
    }
   ],
   "metadata": {}
  },
  {
   "cell_type": "markdown",
   "source": [
    "## 3. Control Flow\r\n",
    "\r\n",
    "Generally a python program is executed line by line, starting from the top of the code and proceeding to the bottom.\r\n",
    "\r\n",
    "However we can use control flow elements like `for` loops and `if` statements to execute lines repeatedly, or to only execute code when the right conditions are met."
   ],
   "metadata": {}
  },
  {
   "cell_type": "markdown",
   "source": [
    "### For loops\r\n",
    "\r\n",
    "For loops iterate over objects in a data structure, letting you perform an action on each:"
   ],
   "metadata": {}
  },
  {
   "cell_type": "code",
   "execution_count": null,
   "source": [
    "my_list = [0, 1, 2, 3]\r\n",
    "for element in my_list:\r\n",
    "    print(element * 2)"
   ],
   "outputs": [
    {
     "output_type": "stream",
     "name": "stdout",
     "text": [
      "0\n",
      "2\n",
      "4\n",
      "6\n"
     ]
    }
   ],
   "metadata": {}
  },
  {
   "cell_type": "markdown",
   "source": [
    "Often we want to perform an action a set number of times. In this case it's easiest to use a for loop with a range object:"
   ],
   "metadata": {}
  },
  {
   "cell_type": "code",
   "execution_count": null,
   "source": [
    "number = 2\r\n",
    "for i in range(10):\r\n",
    "    number *= 2 # This is shorthand for number = number * 2\r\n",
    "print(number)"
   ],
   "outputs": [
    {
     "output_type": "stream",
     "name": "stdout",
     "text": [
      "2048\n"
     ]
    }
   ],
   "metadata": {}
  },
  {
   "cell_type": "markdown",
   "source": [
    "### If statements\r\n",
    "\r\n",
    "If statements are used to execute code only if a condition is met. For example:"
   ],
   "metadata": {}
  },
  {
   "cell_type": "code",
   "execution_count": null,
   "source": [
    "value = 10 * 40 / 30\r\n",
    "if value < 20:\r\n",
    "    print(\"Value is less than 20\")\r\n",
    "else:\r\n",
    "    print(\"Value is not less than 20\")"
   ],
   "outputs": [
    {
     "output_type": "stream",
     "name": "stdout",
     "text": [
      "Value is less than 20\n"
     ]
    }
   ],
   "metadata": {}
  },
  {
   "cell_type": "markdown",
   "source": [
    "The `else` code will only execute if the condition in `if` is `False`.\r\n",
    "\r\n",
    "You can make more complex tests by using `elif` (short for else if):"
   ],
   "metadata": {}
  },
  {
   "cell_type": "code",
   "execution_count": null,
   "source": [
    "value = 5.5 * 1.5 / 4.5\r\n",
    "if value > 1:\r\n",
    "    print(\"Value is greater than 1\")\r\n",
    "elif value > 0:\r\n",
    "    print(\"Value is between 0 and 1\")\r\n",
    "else:\r\n",
    "    print(\"Value is less than or equal to 0\")"
   ],
   "outputs": [
    {
     "output_type": "stream",
     "name": "stdout",
     "text": [
      "Value is greater than 1\n"
     ]
    }
   ],
   "metadata": {}
  },
  {
   "cell_type": "markdown",
   "source": [
    "You can test multiple different conditions in an if statement using logical operators like `and`, `or` etc."
   ],
   "metadata": {}
  },
  {
   "cell_type": "code",
   "execution_count": 1,
   "source": [
    "value_a = (6 * 14)\r\n",
    "value_b = (18 * 8)\r\n",
    "if value_a % 4 == 0 and value_b % 4 == 0:\r\n",
    "    print(\"Both value_a and value_b are multiples of 4.\")"
   ],
   "outputs": [
    {
     "output_type": "stream",
     "name": "stdout",
     "text": [
      "Both value_a and value_b are multiples of 4.\n"
     ]
    }
   ],
   "metadata": {}
  },
  {
   "cell_type": "markdown",
   "source": [
    "## 4. Functions\r\n",
    "\r\n",
    "Functions are a useful way to wrap up code that you plan to use frequently, and make code more structured and easy to understand and change.\r\n",
    "\r\n",
    "A function takes a number of inputs (called arguments) and returns zero or more values."
   ],
   "metadata": {}
  },
  {
   "cell_type": "code",
   "execution_count": null,
   "source": [
    "def multiply_by_two(number):\r\n",
    "    return number * 2\r\n",
    "\r\n",
    "my_number = 4\r\n",
    "print(multiply_by_two(my_number))"
   ],
   "outputs": [
    {
     "output_type": "stream",
     "name": "stdout",
     "text": [
      "8\n"
     ]
    }
   ],
   "metadata": {}
  },
  {
   "cell_type": "markdown",
   "source": [
    "If your function doesn't return anything (it doesn't have a `return` statement) it will return `None` by default.\r\n",
    "\r\n",
    "Here we're defining a function that waits for 1 second before completing. The function we need to do this is contained in the `time` package, which is built in to python. To use it, we need to import it first, using `import time`:"
   ],
   "metadata": {}
  },
  {
   "cell_type": "code",
   "execution_count": 3,
   "source": [
    "import time\r\n",
    "\r\n",
    "def wait_one_second():\r\n",
    "    time.sleep(1.0)\r\n",
    "\r\n",
    "print(wait_one_second())"
   ],
   "outputs": [
    {
     "output_type": "stream",
     "name": "stdout",
     "text": [
      "None\n"
     ]
    }
   ],
   "metadata": {}
  },
  {
   "cell_type": "markdown",
   "source": [
    "Functions can return more than one value:"
   ],
   "metadata": {}
  },
  {
   "cell_type": "code",
   "execution_count": null,
   "source": [
    "def get_first_and_last_element(my_list):\r\n",
    "    return my_list[0], my_list[-1]\r\n",
    "\r\n",
    "my_list = [0, 1, 2, 3]\r\n",
    "first, last = get_first_and_last_element(my_list)\r\n",
    "print(first, last)"
   ],
   "outputs": [
    {
     "output_type": "stream",
     "name": "stdout",
     "text": [
      "0 3\n"
     ]
    }
   ],
   "metadata": {}
  },
  {
   "cell_type": "markdown",
   "source": [
    "Functions can also have keyword arguments. These are handy because they can be assigned default values, meaning if a function has lots of arguments you don't need to set all of them. They also make code easier to follow when calling the function."
   ],
   "metadata": {}
  },
  {
   "cell_type": "code",
   "execution_count": null,
   "source": [
    "import math\r\n",
    "\r\n",
    "def gaussian(x, sigma=1.0, mu=0.0):\r\n",
    "    scale = 1.0 / (sigma * math.sqrt(2.0 * math.pi))\r\n",
    "    return scale * math.exp(0.5 * (x - mu) * (x - mu) / (sigma * sigma))\r\n",
    "\r\n",
    "a = gaussian(10, sigma=5, mu=2) # You can supply all the arguments\r\n",
    "print(a)\r\n",
    "\r\n",
    "b = gaussian(5) #Or you can skip any that have a default value, and the default value will be used\r\n",
    "print(b)"
   ],
   "outputs": [
    {
     "output_type": "stream",
     "name": "stdout",
     "text": [
      "0.2869703307801985\n"
     ]
    }
   ],
   "metadata": {}
  },
  {
   "cell_type": "markdown",
   "source": [
    "## 5. Other useful techniques"
   ],
   "metadata": {}
  },
  {
   "cell_type": "markdown",
   "source": [
    "### Formatting strings\r\n",
    "\r\n",
    "If you want to print out a number of values, it can be helpful to use python's string formatting to get them into the format you want."
   ],
   "metadata": {}
  },
  {
   "cell_type": "code",
   "execution_count": null,
   "source": [
    "a = 10\r\n",
    "b = 1.5\r\n",
    "c = \"hello\"\r\n",
    "\r\n",
    "formatted_string = \"This string contains variables a %d, b %f and c %s\" % (a, b, c)\r\n",
    "\r\n",
    "print(formatted_string)"
   ],
   "outputs": [
    {
     "output_type": "stream",
     "name": "stdout",
     "text": [
      "This string contains variables a 10, b 1.500000 and c hello\n"
     ]
    }
   ],
   "metadata": {}
  },
  {
   "cell_type": "markdown",
   "source": [
    "When printing floating point values, you can change the formatting to choose how many decimal points to display:"
   ],
   "metadata": {}
  },
  {
   "cell_type": "code",
   "execution_count": null,
   "source": [
    "import math\r\n",
    "a = math.sqrt(2)\r\n",
    "print(\"Default format %f\" % a)\r\n",
    "print(\"10 decimal places %0.10f\" % a)\r\n",
    "print(\"20 decimal places %0.20f\" % a)"
   ],
   "outputs": [
    {
     "output_type": "stream",
     "name": "stdout",
     "text": [
      "Default format 1.414214\n",
      "10 decimal places 1.4142135624\n",
      "20 decimal places 1.41421356237309514547\n",
      "With  decimal places 1.4142135624\n"
     ]
    }
   ],
   "metadata": {}
  },
  {
   "cell_type": "markdown",
   "source": [
    "### List comprehensions\r\n",
    "\r\n",
    "List comprehensions are a quick, compact way to create lists. The syntax is similar to a for loop:"
   ],
   "metadata": {}
  },
  {
   "cell_type": "code",
   "execution_count": null,
   "source": [
    "powers_of_two = [2**i for i in range(10)]\r\n",
    "print(powers_of_two)\r\n",
    "\r\n",
    "names = [\"Alice\", \"Bob\"]\r\n",
    "first_initials = [name[0] for name in names]\r\n",
    "print(first_initials)"
   ],
   "outputs": [
    {
     "output_type": "stream",
     "name": "stdout",
     "text": [
      "[1, 2, 4, 8, 16, 32, 64, 128, 256, 512]\n",
      "['A', 'B']\n"
     ]
    }
   ],
   "metadata": {}
  }
 ],
 "metadata": {
  "orig_nbformat": 4,
  "language_info": {
   "name": "python",
   "version": "3.8.5",
   "mimetype": "text/x-python",
   "codemirror_mode": {
    "name": "ipython",
    "version": 3
   },
   "pygments_lexer": "ipython3",
   "nbconvert_exporter": "python",
   "file_extension": ".py"
  },
  "kernelspec": {
   "name": "python3",
   "display_name": "Python 3.8.5 64-bit ('base': conda)"
  },
  "interpreter": {
   "hash": "86014d7f00cdc48111f14ffa351be1944e0fd5daba15176dac9ddff10091d234"
  }
 },
 "nbformat": 4,
 "nbformat_minor": 2
}