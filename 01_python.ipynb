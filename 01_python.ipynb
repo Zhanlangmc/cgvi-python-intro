{
 "cells": [
  {
   "cell_type": "markdown",
   "source": [
    "# Introduction to Python\r\n",
    "\r\n",
    "This notebook will give a quick introduction to the Python programming language, explaining variables, data structures, control flow, functions and some other useful techniques."
   ],
   "metadata": {}
  },
  {
   "cell_type": "markdown",
   "source": [
    "## 1. Variables\r\n",
    "\r\n",
    "A variable can be defined simply by assigning a value to it, for example:"
   ],
   "metadata": {}
  },
  {
   "cell_type": "code",
   "execution_count": 8,
   "source": [
    "integer_variable = 10 # = is the assignment operator\n",
    "# Here it assigns the value 10 to integer_variable.\n",
    "# Integer variables can only contain whole number values.\n",
    "\n",
    "float_variable = 20.5 # Floating-point variables can contain numbers with decimal places.\n",
    "\n",
    "string_variable = \"Hello, world\" # This is a string, made up of a series of characters.\n",
    "\n",
    "# In python, strings can be written using either single quotes ' or double quotes \"\n",
    "string_variable_2 = 'Hello, world'"
   ],
   "outputs": [],
   "metadata": {}
  },
  {
   "cell_type": "markdown",
   "source": [
    "If a variable is used before it has been defined, you will get a NameError:"
   ],
   "metadata": {}
  },
  {
   "cell_type": "code",
   "execution_count": 9,
   "source": [
    "variable = not_yet_created"
   ],
   "outputs": [
    {
     "output_type": "error",
     "ename": "NameError",
     "evalue": "name 'not_yet_created' is not defined",
     "traceback": [
      "\u001b[1;31m---------------------------------------------------------------------------\u001b[0m",
      "\u001b[1;31mNameError\u001b[0m                                 Traceback (most recent call last)",
      "\u001b[1;32m<ipython-input-9-09da5df41336>\u001b[0m in \u001b[0;36m<module>\u001b[1;34m\u001b[0m\n\u001b[1;32m----> 1\u001b[1;33m \u001b[0mvariable\u001b[0m \u001b[1;33m=\u001b[0m \u001b[0mnot_yet_created\u001b[0m\u001b[1;33m\u001b[0m\u001b[1;33m\u001b[0m\u001b[0m\n\u001b[0m",
      "\u001b[1;31mNameError\u001b[0m: name 'not_yet_created' is not defined"
     ]
    }
   ],
   "metadata": {}
  },
  {
   "cell_type": "markdown",
   "source": [
    "It is also possible to delete variables using the `del` keyword, although this is most often not necessary."
   ],
   "metadata": {}
  },
  {
   "cell_type": "code",
   "execution_count": 4,
   "source": [
    "my_variable = 10\n",
    "del my_variable\n",
    "print(my_variable) # Now the variable has been deleted, this will throw a NameError."
   ],
   "outputs": [
    {
     "output_type": "error",
     "ename": "NameError",
     "evalue": "name 'my_variable' is not defined",
     "traceback": [
      "\u001b[0;31m---------------------------------------------------------------------------\u001b[0m",
      "\u001b[0;31mNameError\u001b[0m                                 Traceback (most recent call last)",
      "\u001b[0;32m<ipython-input-4-2da24bd242bc>\u001b[0m in \u001b[0;36m<module>\u001b[0;34m\u001b[0m\n\u001b[1;32m      1\u001b[0m \u001b[0mmy_variable\u001b[0m \u001b[0;34m=\u001b[0m \u001b[0;36m10\u001b[0m\u001b[0;34m\u001b[0m\u001b[0;34m\u001b[0m\u001b[0m\n\u001b[1;32m      2\u001b[0m \u001b[0;32mdel\u001b[0m \u001b[0mmy_variable\u001b[0m\u001b[0;34m\u001b[0m\u001b[0;34m\u001b[0m\u001b[0m\n\u001b[0;32m----> 3\u001b[0;31m \u001b[0mprint\u001b[0m\u001b[0;34m(\u001b[0m\u001b[0mmy_variable\u001b[0m\u001b[0;34m)\u001b[0m \u001b[0;31m# Now the variable has been deleted, this will throw a NameError.\u001b[0m\u001b[0;34m\u001b[0m\u001b[0;34m\u001b[0m\u001b[0m\n\u001b[0m",
      "\u001b[0;31mNameError\u001b[0m: name 'my_variable' is not defined"
     ]
    }
   ],
   "metadata": {}
  },
  {
   "cell_type": "markdown",
   "source": [
    "Variables can have a number of different datatypes, which you can query using the `type()` function:"
   ],
   "metadata": {}
  },
  {
   "cell_type": "code",
   "execution_count": 1,
   "source": [
    "integer_variable = 10\n",
    "print(type(integer_variable))\n",
    "\n",
    "float_variable = 20.0\n",
    "print(type(float_variable))\n",
    "\n",
    "string_variable = \"Hello, world\"\n",
    "print(type(string_variable))\n",
    "\n",
    "boolean_variable = True\n",
    "print(type(boolean_variable))"
   ],
   "outputs": [
    {
     "output_type": "stream",
     "name": "stdout",
     "text": [
      "<class 'int'>\n",
      "<class 'float'>\n",
      "<class 'str'>\n",
      "<class 'bool'>\n"
     ]
    }
   ],
   "metadata": {}
  },
  {
   "cell_type": "markdown",
   "source": [
    "There is a special value `None` which is used to indicate that a variable has no value (similar to `null` in other languages).\n",
    "\n",
    "`None` has a variety of uses. It can be used to give a variable a default value, before setting its value later in the code. It's also a common value to return when some code fails.\n",
    "\n",
    "Note that a variable having a value of `None` is not the same as it not being defined. You won't get a `NameError` when using a variable set to `None`. \n",
    "\n",
    "When a variable is set to `None`, you can think of it as having been defined, but having no value."
   ],
   "metadata": {}
  },
  {
   "cell_type": "code",
   "execution_count": null,
   "source": [
    "my_variable = None\n",
    "print(my_variable)\n",
    "print(type(my_variable))"
   ],
   "outputs": [
    {
     "output_type": "stream",
     "name": "stdout",
     "text": [
      "None\n",
      "<class 'NoneType'>\n"
     ]
    }
   ],
   "metadata": {}
  },
  {
   "cell_type": "markdown",
   "source": [
    "## 2. Data structures\r\n",
    "\r\n",
    "You've seen some of the basic data types such as `int`, `float` and `str` above. When we want to store large numbers of these in a structured way, we can use the data structures built in to python.\r\n",
    "\r\n",
    "The two most commonly used data structures are the list and the dict."
   ],
   "metadata": {}
  },
  {
   "cell_type": "markdown",
   "source": [
    "### Lists\r\n",
    "\r\n",
    "A list stores a one-dimensional array of variables, and behaves similarly to arrays in other languages such as C.\r\n",
    "\r\n",
    "A list can be declared by listing values between square brackets, separated by commas:"
   ],
   "metadata": {}
  },
  {
   "cell_type": "code",
   "execution_count": 2,
   "source": [
    "my_list = [0, 1, 2, 3]"
   ],
   "outputs": [],
   "metadata": {}
  },
  {
   "cell_type": "markdown",
   "source": [
    "You can access elements of a list by providing an index between square brackets"
   ],
   "metadata": {}
  },
  {
   "cell_type": "code",
   "execution_count": 3,
   "source": [
    "print(my_list[0])\n",
    "print(my_list[2])"
   ],
   "outputs": [
    {
     "output_type": "stream",
     "name": "stdout",
     "text": [
      "0\n",
      "2\n"
     ]
    }
   ],
   "metadata": {}
  },
  {
   "cell_type": "markdown",
   "source": [
    "Note that python is zero-indexed - the first item in this list is item 0, and the last item is item 3.\r\n",
    "\r\n",
    "If you try to access item 4, this will throw an `IndexError` as this list has no fourth element:"
   ],
   "metadata": {}
  },
  {
   "cell_type": "code",
   "execution_count": 4,
   "source": [
    "print(my_list[4])"
   ],
   "outputs": [
    {
     "output_type": "error",
     "ename": "IndexError",
     "evalue": "list index out of range",
     "traceback": [
      "\u001b[0;31m---------------------------------------------------------------------------\u001b[0m",
      "\u001b[0;31mIndexError\u001b[0m                                Traceback (most recent call last)",
      "\u001b[0;32m<ipython-input-4-df42a28462c1>\u001b[0m in \u001b[0;36m<module>\u001b[0;34m\u001b[0m\n\u001b[0;32m----> 1\u001b[0;31m \u001b[0mprint\u001b[0m\u001b[0;34m(\u001b[0m\u001b[0mmy_list\u001b[0m\u001b[0;34m[\u001b[0m\u001b[0;36m4\u001b[0m\u001b[0;34m]\u001b[0m\u001b[0;34m)\u001b[0m\u001b[0;34m\u001b[0m\u001b[0;34m\u001b[0m\u001b[0m\n\u001b[0m",
      "\u001b[0;31mIndexError\u001b[0m: list index out of range"
     ]
    }
   ],
   "metadata": {}
  },
  {
   "cell_type": "markdown",
   "source": [
    "The special index `-1` will return the final element in the list.\r\n",
    "\r\n",
    "You can also use other negative indices to return the second to last element `-2`, the third to last `-3` and so on."
   ],
   "metadata": {}
  },
  {
   "cell_type": "code",
   "execution_count": null,
   "source": [
    "print(my_list[-1])\n",
    "print(my_list[-2])"
   ],
   "outputs": [
    {
     "output_type": "stream",
     "name": "stdout",
     "text": [
      "3\n",
      "2\n"
     ]
    }
   ],
   "metadata": {}
  },
  {
   "cell_type": "markdown",
   "source": [
    "You can add an item to the end of the list using `append()` which will make it one element longer:"
   ],
   "metadata": {}
  },
  {
   "cell_type": "code",
   "execution_count": 5,
   "source": [
    "print(\"The list has length\", len(my_list))\n",
    "my_list.append(4)\n",
    "print(\"The list has length\", len(my_list))\n",
    "print(my_list)"
   ],
   "outputs": [
    {
     "output_type": "stream",
     "name": "stdout",
     "text": [
      "The list has length 4\n",
      "The list has length 5\n",
      "[0, 1, 2, 3, 4]\n"
     ]
    }
   ],
   "metadata": {}
  },
  {
   "cell_type": "markdown",
   "source": [
    "You can extract part of a list using a \"slice\". These include a colon `:` with indices on either side. For example `1:3` means items 1 and 2 in the list (note that the ending index is not included).\n",
    "\n",
    "You don't have to include both indices: the slice `:3` means elements in the list up to (but not including) element 3. The slice `3:` means all element from element 3 onward.\n",
    "\n",
    "There are some examples of slices below:"
   ],
   "metadata": {}
  },
  {
   "cell_type": "code",
   "execution_count": 6,
   "source": [
    "my_list = [0, 1, 2, 3, 4]\n",
    "\n",
    "print(\"The whole list:\", my_list[:])\n",
    "print(\"Elements in the list from 1 to 3 (not including 3):\", my_list[1:3])\n",
    "print(\"Elements in the list up to (but not including) the second-last element:\", my_list[:-2])\n",
    "print(\"Elements in the list from 1 onwards:\", my_list[1:])"
   ],
   "outputs": [
    {
     "output_type": "stream",
     "name": "stdout",
     "text": [
      "The whole list: [0, 1, 2, 3, 4]\n",
      "Elements in the list from 1 to 3: [1, 2]\n",
      "Elements in the list up to the second-last element: [0, 1, 2]\n",
      "Elements in the list from 1 onwards: [1, 2, 3, 4]\n"
     ]
    }
   ],
   "metadata": {}
  },
  {
   "cell_type": "markdown",
   "source": [
    "Unlike languages such as C, a list can contain a mixture of data types:"
   ],
   "metadata": {}
  },
  {
   "cell_type": "code",
   "execution_count": null,
   "source": [
    "my_mixed_list = [0, \"hello\", 1.0, False, None]\n",
    "print(my_mixed_list)"
   ],
   "outputs": [
    {
     "output_type": "stream",
     "name": "stdout",
     "text": [
      "[0, 'hello', 1.0, False, None]\n"
     ]
    }
   ],
   "metadata": {}
  },
  {
   "cell_type": "markdown",
   "source": [
    "### Tuples\n",
    "\n",
    "Tuples are a lot like lists, but are *immutable*. This means they cannot be modified after being created."
   ],
   "metadata": {}
  },
  {
   "cell_type": "code",
   "execution_count": 5,
   "source": [
    "my_tuple = (0, 1, 2) # Note that tuples are created with parentheses () not square brackets [].\n",
    "print(my_tuple[0]) # But you access elements with [], just like a list.\n",
    "print(my_tuple[2])"
   ],
   "outputs": [
    {
     "output_type": "stream",
     "name": "stdout",
     "text": [
      "0\n",
      "2\n"
     ]
    }
   ],
   "metadata": {}
  },
  {
   "cell_type": "markdown",
   "source": [
    "Because they are immutable, they don't have functions like `append()` and you can't change the value of an element in the tuple."
   ],
   "metadata": {}
  },
  {
   "cell_type": "code",
   "execution_count": null,
   "source": [],
   "outputs": [],
   "metadata": {}
  },
  {
   "cell_type": "code",
   "execution_count": 6,
   "source": [
    "my_tuple = (0,1)\n",
    "my_tuple.append(2) # This will throw an AttributeError, because a tuple doesn't have an append() function."
   ],
   "outputs": [
    {
     "output_type": "error",
     "ename": "AttributeError",
     "evalue": "'tuple' object has no attribute 'append'",
     "traceback": [
      "\u001b[0;31m---------------------------------------------------------------------------\u001b[0m",
      "\u001b[0;31mAttributeError\u001b[0m                            Traceback (most recent call last)",
      "\u001b[0;32m<ipython-input-6-11ad61e324ed>\u001b[0m in \u001b[0;36m<module>\u001b[0;34m\u001b[0m\n\u001b[1;32m      1\u001b[0m \u001b[0mmy_tuple\u001b[0m \u001b[0;34m=\u001b[0m \u001b[0;34m(\u001b[0m\u001b[0;36m0\u001b[0m\u001b[0;34m,\u001b[0m\u001b[0;36m1\u001b[0m\u001b[0;34m)\u001b[0m\u001b[0;34m\u001b[0m\u001b[0;34m\u001b[0m\u001b[0m\n\u001b[0;32m----> 2\u001b[0;31m \u001b[0mmy_tuple\u001b[0m\u001b[0;34m.\u001b[0m\u001b[0mappend\u001b[0m\u001b[0;34m(\u001b[0m\u001b[0;36m2\u001b[0m\u001b[0;34m)\u001b[0m\u001b[0;34m\u001b[0m\u001b[0;34m\u001b[0m\u001b[0m\n\u001b[0m",
      "\u001b[0;31mAttributeError\u001b[0m: 'tuple' object has no attribute 'append'"
     ]
    }
   ],
   "metadata": {}
  },
  {
   "cell_type": "code",
   "execution_count": 7,
   "source": [
    "my_tuple = (0,1,2)\n",
    "my_tuple[2] = 3 # This throws a TypeError as you can't assign to a tuple after creating it."
   ],
   "outputs": [
    {
     "output_type": "error",
     "ename": "TypeError",
     "evalue": "'tuple' object does not support item assignment",
     "traceback": [
      "\u001b[0;31m---------------------------------------------------------------------------\u001b[0m",
      "\u001b[0;31mTypeError\u001b[0m                                 Traceback (most recent call last)",
      "\u001b[0;32m<ipython-input-7-87d73f91b0eb>\u001b[0m in \u001b[0;36m<module>\u001b[0;34m\u001b[0m\n\u001b[1;32m      1\u001b[0m \u001b[0mmy_tuple\u001b[0m \u001b[0;34m=\u001b[0m \u001b[0;34m(\u001b[0m\u001b[0;36m0\u001b[0m\u001b[0;34m,\u001b[0m\u001b[0;36m1\u001b[0m\u001b[0;34m,\u001b[0m\u001b[0;36m2\u001b[0m\u001b[0;34m)\u001b[0m\u001b[0;34m\u001b[0m\u001b[0;34m\u001b[0m\u001b[0m\n\u001b[0;32m----> 2\u001b[0;31m \u001b[0mmy_tuple\u001b[0m\u001b[0;34m[\u001b[0m\u001b[0;36m2\u001b[0m\u001b[0;34m]\u001b[0m \u001b[0;34m=\u001b[0m \u001b[0;36m3\u001b[0m\u001b[0;34m\u001b[0m\u001b[0;34m\u001b[0m\u001b[0m\n\u001b[0m",
      "\u001b[0;31mTypeError\u001b[0m: 'tuple' object does not support item assignment"
     ]
    }
   ],
   "metadata": {}
  },
  {
   "cell_type": "code",
   "execution_count": null,
   "source": [
    "my_tuple = (0,1,2)\n",
    "my_tuple = (1,2,3) # This works fine though.\n",
    "# This is because you aren't changing a tuple - you're creating an entirely new one\n",
    "# and assigning it to the same variable my_tuple."
   ],
   "outputs": [],
   "metadata": {}
  },
  {
   "cell_type": "markdown",
   "source": [
    "### Dicts\n",
    "\n",
    "Dict is short for dictionary. Dicts work a bit like lists, except that rather than using integers to index elements in the structure, dicts use strings.\n",
    "\n",
    "In other languages they might be called \"maps\" as they are map from strings (called \"keys\") to objects (called \"values\"). Each key maps to a single value, so they form a set of pairs we call \"key-value pairs\".\n",
    "\n",
    "To make a dict, you provide a series of keys and values in curly brackets `{}`"
   ],
   "metadata": {}
  },
  {
   "cell_type": "code",
   "execution_count": 7,
   "source": [
    "# Below we make a dict with two key-value pairs.\n",
    "# The keys are the strings \"string_1\" and \"string_2\".\n",
    "# The values are the numbers 1 and 2.\n",
    "my_dict = {\"string_1\": 1, \"string_2\": 2}\n",
    "print(my_dict)"
   ],
   "outputs": [
    {
     "output_type": "stream",
     "name": "stdout",
     "text": [
      "{'string_1': 1, 'string_2': 2}\n"
     ]
    }
   ],
   "metadata": {}
  },
  {
   "cell_type": "markdown",
   "source": [
    "Note that the keys can be any string you like, they don't have to be in any set format like \"string_1\" and \"string_2\" above.\n",
    "\n",
    "Just like lists, you can access elements using square brackets. However to access an element of a dict you provide the right string. These strings are referred to as \"keys\" and the items stored in the dict are known as \"values\"."
   ],
   "metadata": {}
  },
  {
   "cell_type": "code",
   "execution_count": null,
   "source": [
    "print(my_dict[\"string_1\"])\n",
    "print(my_dict[\"string_2\"])"
   ],
   "outputs": [
    {
     "output_type": "stream",
     "name": "stdout",
     "text": [
      "1\n",
      "2\n"
     ]
    }
   ],
   "metadata": {}
  },
  {
   "cell_type": "markdown",
   "source": [
    "Just like lists if you try to access something that isn't in the dict, you will get an error (this time, a `KeyError`):"
   ],
   "metadata": {}
  },
  {
   "cell_type": "code",
   "execution_count": 8,
   "source": [
    "print(my_dict[\"string_3\"])"
   ],
   "outputs": [
    {
     "output_type": "error",
     "ename": "KeyError",
     "evalue": "'string_3'",
     "traceback": [
      "\u001b[0;31m---------------------------------------------------------------------------\u001b[0m",
      "\u001b[0;31mKeyError\u001b[0m                                  Traceback (most recent call last)",
      "\u001b[0;32m<ipython-input-8-efdd58018dfe>\u001b[0m in \u001b[0;36m<module>\u001b[0;34m\u001b[0m\n\u001b[0;32m----> 1\u001b[0;31m \u001b[0mprint\u001b[0m\u001b[0;34m(\u001b[0m\u001b[0mmy_dict\u001b[0m\u001b[0;34m[\u001b[0m\u001b[0;34m\"string_3\"\u001b[0m\u001b[0;34m]\u001b[0m\u001b[0;34m)\u001b[0m\u001b[0;34m\u001b[0m\u001b[0;34m\u001b[0m\u001b[0m\n\u001b[0m",
      "\u001b[0;31mKeyError\u001b[0m: 'string_3'"
     ]
    }
   ],
   "metadata": {}
  },
  {
   "cell_type": "markdown",
   "source": [
    "Adding new elements to a dict is straightforward:"
   ],
   "metadata": {}
  },
  {
   "cell_type": "code",
   "execution_count": null,
   "source": [
    "my_dict[\"string_3\"] = 3\n",
    "print(my_dict)"
   ],
   "outputs": [
    {
     "output_type": "stream",
     "name": "stdout",
     "text": [
      "{'string_1': 1, 'string_2': 2, 'string_3': 3}\n"
     ]
    }
   ],
   "metadata": {}
  },
  {
   "cell_type": "markdown",
   "source": [
    "Note that you can nest any of these datatypes. For example, here's a dict which contains a list, a tuple and another dict as values:"
   ],
   "metadata": {}
  },
  {
   "cell_type": "code",
   "execution_count": null,
   "source": [
    "nested_dict = {\"list\": [0, 1], \"tuple\": (0, 1), \"dict\": {\"hello\": 1}}"
   ],
   "outputs": [],
   "metadata": {}
  },
  {
   "cell_type": "markdown",
   "source": [
    "## 3. Control Flow\r\n",
    "\r\n",
    "Generally a python program is executed line by line, starting from the top of the code and proceeding to the bottom.\r\n",
    "\r\n",
    "However we can use control flow elements like `for` loops and `if` statements to execute lines repeatedly, or to only execute code when the right conditions are met."
   ],
   "metadata": {}
  },
  {
   "cell_type": "markdown",
   "source": [
    "### While loops\n",
    "\n",
    "A `while` loop will keep executing a block of code as long as the condition associated with it is `True`.\n",
    "\n",
    "In the code below we use a `while` loop to print out the contents of a list:"
   ],
   "metadata": {}
  },
  {
   "cell_type": "code",
   "execution_count": 15,
   "source": [
    "my_list = [0, 6, 4, 7]\n",
    "\n",
    "index = 0\n",
    "while index < len(my_list): # Note that len() just returns the length of the list.\n",
    "    print(\"List item\", index, \"is\", my_list[index])\n",
    "    index = index + 1"
   ],
   "outputs": [
    {
     "output_type": "stream",
     "name": "stdout",
     "text": [
      "List item 0 is 0\n",
      "List item 1 is 6\n",
      "List item 2 is 4\n",
      "List item 3 is 7\n"
     ]
    }
   ],
   "metadata": {}
  },
  {
   "cell_type": "markdown",
   "source": [
    "This works, but is a little cumbersome to write. `while` loops are occasionally useful, but can be tricky and it's easy to accidentally write a loop that behaves incorrectly, or doesn't terminate and runs forever.\n",
    "\n",
    "When iterating over a list or other structure, it's usually easier to use a `for` loop."
   ],
   "metadata": {}
  },
  {
   "cell_type": "markdown",
   "source": [
    "### For loops\n",
    "\n",
    "For loops iterate over objects in a data structure, letting you perform an action on each:"
   ],
   "metadata": {}
  },
  {
   "cell_type": "code",
   "execution_count": 9,
   "source": [
    "my_list = [0, 1, 2, 3]\n",
    "for element in my_list:\n",
    "    print(element * 2)"
   ],
   "outputs": [
    {
     "output_type": "stream",
     "name": "stdout",
     "text": [
      "0\n",
      "2\n",
      "4\n",
      "6\n"
     ]
    }
   ],
   "metadata": {}
  },
  {
   "cell_type": "markdown",
   "source": [
    "Often we want to perform an action a set number of times. In this case it's easiest to use a for loop with a range object:\n",
    "\n",
    "Ranges are special objects which represent a series of integer values within a set range."
   ],
   "metadata": {}
  },
  {
   "cell_type": "code",
   "execution_count": 8,
   "source": [
    "my_range = range(10) # This creates a range object \n",
    "print(my_range) # This range represents the integers from 0 to 10 (not including 10).\n",
    "print(type(my_range)) # Note that range objects have their own type.\n",
    "print(my_range[5]) # But you can index them like tuples.\n",
    "# Like tuples, they're immutable (so don't try to modify them like e.g. my_range[5] = 2)."
   ],
   "outputs": [
    {
     "output_type": "stream",
     "name": "stdout",
     "text": [
      "range(0, 10)\n",
      "<class 'range'>\n",
      "0\n"
     ]
    }
   ],
   "metadata": {}
  },
  {
   "cell_type": "markdown",
   "source": [
    "Range objects are very convenient for running for loops over a range of integer values:"
   ],
   "metadata": {}
  },
  {
   "cell_type": "code",
   "execution_count": 10,
   "source": [
    "number = 2\n",
    "for i in range(10):\n",
    "    number *= 2 # This is shorthand for number = number * 2\n",
    "    print(\"Iteration\", i, \"number ==\", number)\n",
    "print(number)"
   ],
   "outputs": [
    {
     "output_type": "stream",
     "name": "stdout",
     "text": [
      "Iteration 0 number == 4\n",
      "Iteration 1 number == 8\n",
      "Iteration 2 number == 16\n",
      "Iteration 3 number == 32\n",
      "Iteration 4 number == 64\n",
      "Iteration 5 number == 128\n",
      "Iteration 6 number == 256\n",
      "Iteration 7 number == 512\n",
      "Iteration 8 number == 1024\n",
      "Iteration 9 number == 2048\n",
      "2048\n"
     ]
    }
   ],
   "metadata": {}
  },
  {
   "cell_type": "markdown",
   "source": [
    "Sometimes you want to iterate over a list, but also want access to the index of each item in the list.\n",
    "\n",
    "You can get access to both using the `enumerate()` function."
   ],
   "metadata": {}
  },
  {
   "cell_type": "code",
   "execution_count": 11,
   "source": [
    "my_list = [5, 42, 78, 3]\n",
    "for index, value in enumerate(my_list):\n",
    "    print(\"The list has value\", value, \"at index\", index)"
   ],
   "outputs": [
    {
     "output_type": "stream",
     "name": "stdout",
     "text": [
      "The list has value 5 at index 0\n",
      "The list has value 42 at index 1\n",
      "The list has value 78 at index 2\n",
      "The list has value 3 at index 3\n"
     ]
    }
   ],
   "metadata": {}
  },
  {
   "cell_type": "markdown",
   "source": [
    "You can also iterate over a dict object, but remember that dicts contain key-value pairs.\n",
    "\n",
    "Doing a basic for loop will iterate over the keys:"
   ],
   "metadata": {}
  },
  {
   "cell_type": "code",
   "execution_count": 9,
   "source": [
    "my_dict = {\"a\": \"hello\", \"b\": 20}\n",
    "for key in my_dict:\n",
    "    print(\"The key\", key, \"maps to the value\", my_dict[key])"
   ],
   "outputs": [
    {
     "output_type": "stream",
     "name": "stdout",
     "text": [
      "The key a maps to the value hello\n",
      "The key b maps to the value 20\n"
     ]
    }
   ],
   "metadata": {}
  },
  {
   "cell_type": "markdown",
   "source": [
    "There are alternatives, for example using the `.items()` method of the dict, we can iterate over keys and values:"
   ],
   "metadata": {}
  },
  {
   "cell_type": "code",
   "execution_count": 10,
   "source": [
    "my_dict = {\"a\": \"hello\", \"b\": 20}\n",
    "for key, value in my_dict.items():\n",
    "    print(\"The key\", key, \"maps to the value\", value)"
   ],
   "outputs": [
    {
     "output_type": "stream",
     "name": "stdout",
     "text": [
      "The key a maps to the value hello\n",
      "The key b maps to the value 20\n"
     ]
    }
   ],
   "metadata": {}
  },
  {
   "cell_type": "markdown",
   "source": [
    "It's important to remember there are no guarantees about what **order** the dictionary's key-value pairs will be returned in. It won't necessarily be in alphabetical order of keys, or the order you created or added items to the dict in."
   ],
   "metadata": {}
  },
  {
   "cell_type": "markdown",
   "source": [
    "### If statements\r\n",
    "\r\n",
    "If statements are used to execute code only if a condition is met. For example:"
   ],
   "metadata": {}
  },
  {
   "cell_type": "code",
   "execution_count": 11,
   "source": [
    "value = 10 * 40 / 30\n",
    "if value < 20:\n",
    "    print(\"Value is less than 20\")\n",
    "else:\n",
    "    print(\"Value is not less than 20\")"
   ],
   "outputs": [
    {
     "output_type": "stream",
     "name": "stdout",
     "text": [
      "Value is less than 20\n"
     ]
    }
   ],
   "metadata": {}
  },
  {
   "cell_type": "markdown",
   "source": [
    "The `else` code will only execute if the condition in `if` is `False`.\r\n",
    "\r\n",
    "You can make more complex tests by using `elif` (short for else if):"
   ],
   "metadata": {}
  },
  {
   "cell_type": "code",
   "execution_count": 12,
   "source": [
    "value = 5.5 * 1.5 / 4.5\n",
    "if value > 1:\n",
    "    print(\"Value is greater than 1\")\n",
    "elif value > 0:\n",
    "    print(\"Value is between 0 and 1\")\n",
    "else:\n",
    "    print(\"Value is less than or equal to 0\")"
   ],
   "outputs": [
    {
     "output_type": "stream",
     "name": "stdout",
     "text": [
      "Value is greater than 1\n"
     ]
    }
   ],
   "metadata": {}
  },
  {
   "cell_type": "markdown",
   "source": [
    "You can test multiple different conditions in an if statement using logical operators like `and`, `or` etc."
   ],
   "metadata": {}
  },
  {
   "cell_type": "code",
   "execution_count": 1,
   "source": [
    "value_a = (6 * 14)\n",
    "value_b = (18 * 8)\n",
    "if value_a % 4 == 0 and value_b % 4 == 0:\n",
    "    print(\"Both value_a and value_b are multiples of 4.\")"
   ],
   "outputs": [
    {
     "output_type": "stream",
     "name": "stdout",
     "text": [
      "Both value_a and value_b are multiples of 4.\n"
     ]
    }
   ],
   "metadata": {}
  },
  {
   "cell_type": "markdown",
   "source": [
    "## 4. Functions\r\n",
    "\r\n",
    "Functions are a useful way to wrap up code that you plan to use frequently, and make code more structured and easy to understand and change.\r\n",
    "\r\n",
    "A function takes a number of inputs (called arguments) and returns zero or more values."
   ],
   "metadata": {}
  },
  {
   "cell_type": "code",
   "execution_count": 13,
   "source": [
    "def multiply_by_two(number):\n",
    "    return number * 2\n",
    "\n",
    "my_number = 4\n",
    "print(multiply_by_two(my_number))"
   ],
   "outputs": [
    {
     "output_type": "stream",
     "name": "stdout",
     "text": [
      "8\n"
     ]
    }
   ],
   "metadata": {}
  },
  {
   "cell_type": "markdown",
   "source": [
    "If your function doesn't return anything (it doesn't have a `return` statement) it will return `None` by default.\r\n",
    "\r\n",
    "Here we're defining a function that waits for 1 second before completing. The function we need to do this is contained in the `time` package, which is built in to python. To use it, we need to import it first, using `import time`:"
   ],
   "metadata": {}
  },
  {
   "cell_type": "code",
   "execution_count": 14,
   "source": [
    "import time\n",
    "\n",
    "def wait_one_second():\n",
    "    time.sleep(1.0)\n",
    "\n",
    "print(wait_one_second())"
   ],
   "outputs": [
    {
     "output_type": "stream",
     "name": "stdout",
     "text": [
      "None\n"
     ]
    }
   ],
   "metadata": {}
  },
  {
   "cell_type": "markdown",
   "source": [
    "Functions can return more than one value:"
   ],
   "metadata": {}
  },
  {
   "cell_type": "code",
   "execution_count": 15,
   "source": [
    "def get_first_and_last_element(my_list):\n",
    "    return my_list[0], my_list[-1]\n",
    "\n",
    "my_list = [0, 1, 2, 3]\n",
    "first, last = get_first_and_last_element(my_list)\n",
    "print(first, last)"
   ],
   "outputs": [
    {
     "output_type": "stream",
     "name": "stdout",
     "text": [
      "0 3\n"
     ]
    }
   ],
   "metadata": {}
  },
  {
   "cell_type": "markdown",
   "source": [
    "Functions can also have keyword arguments. These are handy because they can be assigned default values, meaning if a function has lots of arguments you don't need to set all of them. They also make code easier to follow when calling the function."
   ],
   "metadata": {}
  },
  {
   "cell_type": "code",
   "execution_count": 16,
   "source": [
    "import math\n",
    "\n",
    "def gaussian(x, sigma=1.0, mu=0.0):\n",
    "    scale = 1.0 / (sigma * math.sqrt(2.0 * math.pi))\n",
    "    return scale * math.exp(0.5 * (x - mu) * (x - mu) / (sigma * sigma))\n",
    "\n",
    "a = gaussian(10, sigma=5, mu=2) # You can supply all the arguments\n",
    "print(a)\n",
    "\n",
    "b = gaussian(5) #Or you can skip any that have a default value, and the default value will be used\n",
    "print(b)"
   ],
   "outputs": [
    {
     "output_type": "stream",
     "name": "stdout",
     "text": [
      "0.2869703307801985\n",
      "107051.08900137029\n"
     ]
    }
   ],
   "metadata": {}
  },
  {
   "cell_type": "markdown",
   "source": [
    "## 5. Other useful techniques"
   ],
   "metadata": {}
  },
  {
   "cell_type": "markdown",
   "source": [
    "### Formatting strings\r\n",
    "\r\n",
    "If you want to print out a number of values, it can be helpful to use python's string formatting to get them into the format you want."
   ],
   "metadata": {}
  },
  {
   "cell_type": "code",
   "execution_count": 17,
   "source": [
    "a = 10\n",
    "b = 1.5\n",
    "c = \"hello\"\n",
    "\n",
    "formatted_string = \"This string contains variables a %d, b %f and c %s\" % (a, b, c)\n",
    "\n",
    "print(formatted_string)"
   ],
   "outputs": [
    {
     "output_type": "stream",
     "name": "stdout",
     "text": [
      "This string contains variables a 10, b 1.500000 and c hello\n"
     ]
    }
   ],
   "metadata": {}
  },
  {
   "cell_type": "markdown",
   "source": [
    "When printing floating point values, you can change the formatting to choose how many decimal points to display:"
   ],
   "metadata": {}
  },
  {
   "cell_type": "code",
   "execution_count": null,
   "source": [
    "import math\n",
    "a = math.sqrt(2)\n",
    "print(\"Default format %f\" % a)\n",
    "print(\"10 decimal places %0.10f\" % a)\n",
    "print(\"20 decimal places %0.20f\" % a)"
   ],
   "outputs": [
    {
     "output_type": "stream",
     "name": "stdout",
     "text": [
      "Default format 1.414214\n",
      "10 decimal places 1.4142135624\n",
      "20 decimal places 1.41421356237309514547\n",
      "With  decimal places 1.4142135624\n"
     ]
    }
   ],
   "metadata": {}
  },
  {
   "cell_type": "markdown",
   "source": [
    "### List comprehensions\r\n",
    "\r\n",
    "List comprehensions are a quick, compact way to create lists. The syntax is similar to a for loop:"
   ],
   "metadata": {}
  },
  {
   "cell_type": "code",
   "execution_count": 3,
   "source": [
    "# This is a list comprehension\n",
    "# It creates an list, powers_of_two. The syntax shows what to assign to each element in the list.\n",
    "# Note that ** means power, e.g. 2**2 == 4\n",
    "powers_of_two = [2**i for i in range(10)]\n",
    "print(powers_of_two)\n",
    "\n",
    "# This is the same as:\n",
    "powers_of_two = []\n",
    "for i in range(10):\n",
    "    powers_of_two.append(2**i)\n",
    "\n",
    "print(powers_of_two)\n",
    "# So list comprehensions are really just a shorthand for a for loop like this."
   ],
   "outputs": [
    {
     "output_type": "stream",
     "name": "stdout",
     "text": [
      "[1, 2, 4, 8, 16, 32, 64, 128, 256, 512]\n",
      "[1, 2, 4, 8, 16, 32, 64, 128, 256, 512]\n",
      "['A', 'B']\n"
     ]
    }
   ],
   "metadata": {}
  },
  {
   "cell_type": "code",
   "execution_count": 12,
   "source": [
    "#Here is another example. Note that name[0] takes the first character of the string name.\n",
    "names = [\"Alice\", \"Bob\"]\n",
    "first_initials = [name[0] for name in names]\n",
    "print(first_initials)\n",
    "\n",
    "# Again, this is equivalent to:\n",
    "first_initials = []\n",
    "for name in names:\n",
    "    first_initials.append(name[0])\n",
    "print(first_initials)"
   ],
   "outputs": [
    {
     "output_type": "stream",
     "name": "stdout",
     "text": [
      "['A', 'B']\n",
      "['A', 'B']\n"
     ]
    }
   ],
   "metadata": {}
  }
 ],
 "metadata": {
  "orig_nbformat": 4,
  "language_info": {
   "name": "python",
   "version": "3.8.5",
   "mimetype": "text/x-python",
   "codemirror_mode": {
    "name": "ipython",
    "version": 3
   },
   "pygments_lexer": "ipython3",
   "nbconvert_exporter": "python",
   "file_extension": ".py"
  },
  "kernelspec": {
   "name": "python3",
   "display_name": "Python 3.8.5 64-bit ('base': conda)"
  },
  "interpreter": {
   "hash": "c499e9b546c6de67782f03323179e69664fe5217ad4be3e56793063e25fbdeaf"
  }
 },
 "nbformat": 4,
 "nbformat_minor": 2
}