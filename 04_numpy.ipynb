{
 "cells": [
  {
   "cell_type": "markdown",
   "metadata": {},
   "source": [
    "# Numpy\n",
    "\n",
    "Numpy is a python library that is widely used for mathematics, computer vision and a wide variety of other applications.\n",
    "\n",
    "The main data structure in Numpy is the `array`. This tutorial focuses on this important data structure, and covers:\n",
    "* Importing `numpy`\n",
    "* Creating arrays\n",
    "* Accessing values in arrays\n",
    "* Mathematics with arrays (e.g. multiplication)"
   ]
  },
  {
   "cell_type": "markdown",
   "metadata": {},
   "source": [
    "First of all we need to import the numpy library. Here I've used the `as` syntax to create an alias for `numpy`. This means we can refer to it using the shorthand `np` in the code."
   ]
  },
  {
   "cell_type": "code",
   "execution_count": 1,
   "metadata": {},
   "outputs": [
    {
     "name": "stderr",
     "output_type": "stream",
     "text": [
      "h:\\ProgramData\\Anaconda3\\lib\\site-packages\\numpy\\_distributor_init.py:30: UserWarning: loaded more than 1 DLL from .libs:\n",
      "h:\\ProgramData\\Anaconda3\\lib\\site-packages\\numpy\\.libs\\libopenblas.EL2C6PLE4ZYW3ECEVIV3OXXGRN2NRFM2.gfortran-win_amd64.dll\n",
      "h:\\ProgramData\\Anaconda3\\lib\\site-packages\\numpy\\.libs\\libopenblas.WCDJNK7YVMPZQ2ME2ZZHJJRJ3JIKNDB7.gfortran-win_amd64.dll\n",
      "  warnings.warn(\"loaded more than 1 DLL from .libs:\"\n"
     ]
    }
   ],
   "source": [
    "import numpy as np"
   ]
  },
  {
   "cell_type": "markdown",
   "metadata": {},
   "source": [
    "A numpy array stores a number of elements of the same datatype. In this way it is similar to a python list, but they address some of the shortcomings of python lists. \n",
    "\n",
    "Whilst lists are one-dimensional, numpy arrays can have any number of dimensions, so they can represent vectors, matrices or tensors.\n",
    "\n",
    "Unlike lists, numpy arrays have a set datatype and will only contain elements of that type. This is more restrictive, but means that arrays are more memory-efficient and performing operations on them is faster."
   ]
  },
  {
   "cell_type": "markdown",
   "metadata": {},
   "source": [
    "Arrays can be created in a number of ways:"
   ]
  },
  {
   "cell_type": "code",
   "execution_count": 18,
   "metadata": {},
   "outputs": [],
   "source": [
    "# Creating from python lists:\n",
    "vector = np.array([0,1,2,3])\n",
    "matrix = np.array([ [1, 0, 0, 0],\n",
    "                    [0, 1, 0, 0],\n",
    "                    [0, 0, 1, 0],\n",
    "                    [0, 0, 0, 1]])\n",
    "\n",
    "# Making arrays of ones or zeros\n",
    "ones = np.ones([10,10])\n",
    "zeros = np.ones([3,5,2])\n",
    "\n",
    "# Making a 4x4 identity matrix\n",
    "# Note the identity matrix function is called `eye`\n",
    "identity = np.eye(4)\n",
    "\n",
    "# Making random arrays\n",
    "rand_array = np.random.random([5,2]) # Drawn from uniform random distribution on [0,1)\n",
    "rand_array2 = np.random.normal([3,3,3]) #Drawn from a standard normal distribution (mean 0, stdev 1)"
   ]
  },
  {
   "cell_type": "markdown",
   "metadata": {},
   "source": [
    "They are indexed in the same way as arrays, using square brackets. When the array has more than one dimension, the indices are separated by commas."
   ]
  },
  {
   "cell_type": "code",
   "execution_count": 19,
   "metadata": {},
   "outputs": [
    {
     "name": "stdout",
     "output_type": "stream",
     "text": [
      "2\n",
      "1\n"
     ]
    }
   ],
   "source": [
    "a = vector[2]\n",
    "print(a)\n",
    "b = matrix[3,3]\n",
    "print(b)"
   ]
  },
  {
   "cell_type": "markdown",
   "metadata": {},
   "source": [
    "Slices also work on numpy arrays, just like lists."
   ]
  },
  {
   "cell_type": "code",
   "execution_count": 20,
   "metadata": {},
   "outputs": [
    {
     "name": "stdout",
     "output_type": "stream",
     "text": [
      "[1 2 3]\n",
      "[0 0 1 0]\n"
     ]
    }
   ],
   "source": [
    "print(vector[1:])\n",
    "print(matrix[:,2])"
   ]
  },
  {
   "cell_type": "markdown",
   "metadata": {},
   "source": [
    "There is a new slice option for numpy, `...`, which can be used to get all the remaining dimensions in an array. This is handy when you have lots of dimensions:"
   ]
  },
  {
   "cell_type": "code",
   "execution_count": 2,
   "metadata": {},
   "outputs": [
    {
     "name": "stdout",
     "output_type": "stream",
     "text": [
      "(5, 5, 5, 5)\n",
      "(2, 5, 5, 5, 5)\n"
     ]
    }
   ],
   "source": [
    "big_array = np.ones([5,5,5,5,5])\n",
    "\n",
    "slice_1 = big_array[...,0] # Grabs all the first 4 dimensions of big_array, and the first entry in the last dimension\n",
    "print(slice_1.shape) # This will be (5,5,5,5) as we only sampled one entry from the last dimension\n",
    "\n",
    "slice_2 = big_array[:2, ...] # You can also use ... at the end of the slice. This takes the first 2 entries from the first dimension of the array.\n",
    "print(slice_2.shape) # This will be (2,5,5,5,5) as we took 2 entries in the first dimension."
   ]
  },
  {
   "cell_type": "markdown",
   "metadata": {},
   "source": [
    "You can find out the dimensions of an array using the `shape` property."
   ]
  },
  {
   "cell_type": "code",
   "execution_count": 21,
   "metadata": {},
   "outputs": [
    {
     "name": "stdout",
     "output_type": "stream",
     "text": [
      "(5, 2)\n",
      "2\n"
     ]
    }
   ],
   "source": [
    "print(rand_array.shape)\n",
    "print(rand_array.shape[1]) # shape is a tuple, so you can access elements of it"
   ]
  },
  {
   "cell_type": "markdown",
   "metadata": {},
   "source": [
    "Arrays have a set datatype, and all elements of an array must be of the same type. However, we can convert arrays from one type to another."
   ]
  },
  {
   "cell_type": "code",
   "execution_count": 22,
   "metadata": {},
   "outputs": [
    {
     "name": "stdout",
     "output_type": "stream",
     "text": [
      "int32\n",
      "float32\n"
     ]
    }
   ],
   "source": [
    "print(vector.dtype) # vector was initially made from a list of ints, so its type is int32\n",
    "float_vector = vector.astype(np.float32) # but we can convert it to an array of floats\n",
    "print(float_vector.dtype)"
   ]
  },
  {
   "cell_type": "markdown",
   "metadata": {},
   "source": [
    "The types available in numpy start with the format, like `int`, `uint` (unsigned int), `float` or `complex`. They end in an integer that says how many bits each item in the array takes up.\n",
    "\n",
    "For example, `np.float32` is a 32-bit (single-precision) floating point datatype. `np.uint8` is an 8-bit unsigned integer datatype."
   ]
  },
  {
   "cell_type": "markdown",
   "metadata": {},
   "source": [
    "Mathematical operations work on arrays, and all of the standard operations `+ - * /` work element-wise.\n",
    "\n",
    "This means they're equivalent to running through the arrays in a for loop and applying the operation to each pair of elements, like this:"
   ]
  },
  {
   "cell_type": "code",
   "execution_count": 23,
   "metadata": {},
   "outputs": [
    {
     "name": "stdout",
     "output_type": "stream",
     "text": [
      "[2. 2. 2.]\n"
     ]
    }
   ],
   "source": [
    "array_1 = np.array([1,1,1])\n",
    "array_2 = np.array([2,2,2])\n",
    "\n",
    "# You could multiply these arrays element-wise with a for loop like this:\n",
    "result = np.zeros([3])\n",
    "for i in range(array_1.shape[0]):\n",
    "    result[i] = array_1[i] * array_2[i]\n",
    "print(result)\n",
    "\n",
    "# But using the operator * is quicker to write, and runs faster too:\n",
    "result = array_1 * array_2"
   ]
  },
  {
   "cell_type": "markdown",
   "metadata": {},
   "source": [
    "Note that `array_1 * array_2` *does not* perform matrix multiplication. For this you must use `np.matmul()`, or the `@` operator."
   ]
  },
  {
   "cell_type": "code",
   "execution_count": 2,
   "metadata": {},
   "outputs": [
    {
     "name": "stdout",
     "output_type": "stream",
     "text": [
      "Multiply\n",
      " [[2. 0. 0.]\n",
      " [0. 2. 0.]\n",
      " [0. 0. 2.]]\n",
      "Matrix multiply\n",
      " [[2. 2. 2.]\n",
      " [2. 2. 2.]\n",
      " [2. 2. 2.]]\n",
      "Alternative matrix multiply\n",
      " [[2. 2. 2.]\n",
      " [2. 2. 2.]\n",
      " [2. 2. 2.]]\n"
     ]
    }
   ],
   "source": [
    "array_1 = np.eye(3)\n",
    "array_2 = np.ones([3,3])*2.0\n",
    "\n",
    "# This will do element-wise multiplication, and give a diagonal matrix.\n",
    "print(\"Multiply\\n\", array_1 * array_2)\n",
    "\n",
    "# This does proper matrix multiplication with an identity matrix, so will just output array_2.\n",
    "print(\"Matrix multiply\\n\", np.matmul(array_1, array_2))\n",
    "\n",
    "# The @ operator does the same thing, but is a bit quicker to write:\n",
    "print(\"Alternative matrix multiply\\n\", array_1 @ array_2)"
   ]
  }
 ],
 "metadata": {
  "kernelspec": {
   "display_name": "Python 3.8.5 ('base')",
   "language": "python",
   "name": "python3"
  },
  "language_info": {
   "codemirror_mode": {
    "name": "ipython",
    "version": 3
   },
   "file_extension": ".py",
   "mimetype": "text/x-python",
   "name": "python",
   "nbconvert_exporter": "python",
   "pygments_lexer": "ipython3",
   "version": "3.8.5"
  },
  "orig_nbformat": 4,
  "vscode": {
   "interpreter": {
    "hash": "c921a71fa7d5301530abc76a09084737c3fca4b7328b11bbb5dba4e94f78eaed"
   }
  }
 },
 "nbformat": 4,
 "nbformat_minor": 2
}
