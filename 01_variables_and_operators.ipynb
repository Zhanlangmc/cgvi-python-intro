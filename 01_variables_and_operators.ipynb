{
 "cells": [
  {
   "cell_type": "markdown",
   "metadata": {},
   "source": [
    "# Introduction to Python 1: Variables and Operators\n",
    "\n",
    "Notebooks 01-03 will give a quick introduction to the Python programming language, explaining variables, operators, data structures, control flow, functions and some other useful techniques.\n",
    "\n",
    "This notebook introduces the following concepts:\n",
    "* Variables\n",
    "* Datatypes\n",
    "* Operators\n",
    "    * The assignment operator `=`\n",
    "    * The equality operators `==`, `is`\n",
    "    * Other mathematical operators `*`, `/` etc."
   ]
  },
  {
   "cell_type": "markdown",
   "metadata": {},
   "source": [
    "First a quick note on comments. Comments are part of source code that is not executed - it's ignored by the computer. They're mainly used to communicate to humans reading the code, to explain what it does and how it works.\n",
    "\n",
    "I always recommend commenting code whenever something is unclear, even if the only person you expect to read your code is you. If you come back to the code a year later, they can really help you to understand it.\n",
    "\n",
    "Comments can also be useful to temporarily \"switch off\" one or two lines of code.\n",
    "\n",
    "In python, single-line comments are made by using the `#` symbol. Anything after this symbol will be ignored by python.\n",
    "\n",
    "You can use three quote symbols in a row (`'''` or `\"\"\"`) to make a multi-line string, which can be used to make multi-line comments."
   ]
  },
  {
   "cell_type": "code",
   "execution_count": null,
   "metadata": {},
   "outputs": [],
   "source": [
    "# Here is a single-line comment.\n",
    "\n",
    "\"\"\" This is a multi-line comment\n",
    "    Anything between the pair of triple quotes won't be executed.\n",
    "    This cell won't do anything, because everything in it is commented out!\n",
    "\"\"\""
   ]
  },
  {
   "cell_type": "markdown",
   "metadata": {},
   "source": [
    "## 1. Variables\n",
    "\n",
    "A variable can be defined simply by assigning a value to it using the assignment operator `=`, for example:"
   ]
  },
  {
   "cell_type": "code",
   "execution_count": 1,
   "metadata": {},
   "outputs": [],
   "source": [
    "integer_variable = 10 # = is the assignment operator\n",
    "# Here it assigns the value 10 to integer_variable.\n",
    "# Integer variables can only contain whole number values.\n",
    "\n",
    "float_variable = 20.5 # Floating-point variables can contain numbers with decimal places.\n",
    "\n",
    "string_variable = \"Hello, world\" # This is a string, made up of a series of characters.\n",
    "\n",
    "# In python, strings can be written using either single quotes ' or double quotes \"\n",
    "string_variable_2 = 'Hello, world'\n",
    "\n",
    "# You can also make multi-line strings using triple quotes:\n",
    "string_variable_3 = \"\"\"\n",
    "Line 1\n",
    "Line 2\n",
    "Line 3\n",
    "\"\"\""
   ]
  },
  {
   "cell_type": "markdown",
   "metadata": {},
   "source": [
    "If a variable is used before it has been defined, you will get a NameError:"
   ]
  },
  {
   "cell_type": "code",
   "execution_count": 9,
   "metadata": {},
   "outputs": [
    {
     "ename": "NameError",
     "evalue": "name 'not_yet_created' is not defined",
     "output_type": "error",
     "traceback": [
      "\u001b[1;31m---------------------------------------------------------------------------\u001b[0m",
      "\u001b[1;31mNameError\u001b[0m                                 Traceback (most recent call last)",
      "\u001b[1;32m<ipython-input-9-09da5df41336>\u001b[0m in \u001b[0;36m<module>\u001b[1;34m\u001b[0m\n\u001b[1;32m----> 1\u001b[1;33m \u001b[0mvariable\u001b[0m \u001b[1;33m=\u001b[0m \u001b[0mnot_yet_created\u001b[0m\u001b[1;33m\u001b[0m\u001b[1;33m\u001b[0m\u001b[0m\n\u001b[0m",
      "\u001b[1;31mNameError\u001b[0m: name 'not_yet_created' is not defined"
     ]
    }
   ],
   "source": [
    "variable = not_yet_created"
   ]
  },
  {
   "cell_type": "markdown",
   "metadata": {},
   "source": [
    "It is also possible to delete variables using the `del` keyword, although this is most often not necessary."
   ]
  },
  {
   "cell_type": "code",
   "execution_count": 4,
   "metadata": {},
   "outputs": [
    {
     "ename": "NameError",
     "evalue": "name 'my_variable' is not defined",
     "output_type": "error",
     "traceback": [
      "\u001b[0;31m---------------------------------------------------------------------------\u001b[0m",
      "\u001b[0;31mNameError\u001b[0m                                 Traceback (most recent call last)",
      "\u001b[0;32m<ipython-input-4-2da24bd242bc>\u001b[0m in \u001b[0;36m<module>\u001b[0;34m\u001b[0m\n\u001b[1;32m      1\u001b[0m \u001b[0mmy_variable\u001b[0m \u001b[0;34m=\u001b[0m \u001b[0;36m10\u001b[0m\u001b[0;34m\u001b[0m\u001b[0;34m\u001b[0m\u001b[0m\n\u001b[1;32m      2\u001b[0m \u001b[0;32mdel\u001b[0m \u001b[0mmy_variable\u001b[0m\u001b[0;34m\u001b[0m\u001b[0;34m\u001b[0m\u001b[0m\n\u001b[0;32m----> 3\u001b[0;31m \u001b[0mprint\u001b[0m\u001b[0;34m(\u001b[0m\u001b[0mmy_variable\u001b[0m\u001b[0;34m)\u001b[0m \u001b[0;31m# Now the variable has been deleted, this will throw a NameError.\u001b[0m\u001b[0;34m\u001b[0m\u001b[0;34m\u001b[0m\u001b[0m\n\u001b[0m",
      "\u001b[0;31mNameError\u001b[0m: name 'my_variable' is not defined"
     ]
    }
   ],
   "source": [
    "my_variable = 10\n",
    "del my_variable\n",
    "print(my_variable) # Now the variable has been deleted, this will throw a NameError."
   ]
  },
  {
   "cell_type": "markdown",
   "metadata": {},
   "source": [
    "Variables can have a number of different datatypes, which you can query using the `type()` function:"
   ]
  },
  {
   "cell_type": "code",
   "execution_count": 1,
   "metadata": {},
   "outputs": [
    {
     "name": "stdout",
     "output_type": "stream",
     "text": [
      "<class 'int'>\n",
      "<class 'float'>\n",
      "<class 'str'>\n",
      "<class 'bool'>\n"
     ]
    }
   ],
   "source": [
    "integer_variable = 10\n",
    "print(type(integer_variable))\n",
    "\n",
    "float_variable = 20.0\n",
    "print(type(float_variable))\n",
    "\n",
    "string_variable = \"Hello, world\"\n",
    "print(type(string_variable))\n",
    "\n",
    "boolean_variable = True\n",
    "print(type(boolean_variable))"
   ]
  },
  {
   "cell_type": "markdown",
   "metadata": {},
   "source": [
    "It's possible to convert variables from one type to another using python's conversion functions. These have the same name as the output type, so for example the function to convert a variable to the `int` type is `int()`."
   ]
  },
  {
   "cell_type": "code",
   "execution_count": 5,
   "metadata": {},
   "outputs": [
    {
     "name": "stdout",
     "output_type": "stream",
     "text": [
      "Original float variable: 10.5\n",
      "After converting to int: 10\n",
      "<class 'str'>\n",
      "10.5 converted to a boolean: True\n",
      "None converted to a boolean: False\n",
      "0.0 converted to a boolean: False\n"
     ]
    }
   ],
   "source": [
    "float_variable = 10.5\n",
    "print(\"Original float variable:\", float_variable)\n",
    "\n",
    "# Now we convert to an integer. Note that everything after the decimal point is lost, as \n",
    "# int variables can only store integer values.\n",
    "int_variable = int(float_variable)\n",
    "print(\"After converting to int:\", int_variable)\n",
    "\n",
    "string_variable = str(float_variable) # This converts the float to a string. This can be useful for (for example) saving the number to a text file.\n",
    "print(type(string_variable))\n",
    "\n",
    "# Converting to bool (True/False) gives True for the majority of inputs.\n",
    "# Only some values convert to False (e.g. None, zero and empty lists).\n",
    "bool_variable = bool(float_variable)\n",
    "print(\"10.5 converted to a boolean:\", bool_variable)\n",
    "\n",
    "bool_variable = bool(None)\n",
    "print(\"None converted to a boolean:\", bool_variable)\n",
    "\n",
    "bool_variable = bool(0.0)\n",
    "print(\"0.0 converted to a boolean:\", bool_variable)"
   ]
  },
  {
   "cell_type": "markdown",
   "metadata": {},
   "source": [
    "There is a special value `None` which is used to indicate that a variable has no value (similar to `null` in other languages).\n",
    "\n",
    "`None` has a variety of uses. It can be used to give a variable a default value, before setting its value later in the code. It's also a common value to return when some code fails.\n",
    "\n",
    "Note that a variable having a value of `None` is not the same as it not being defined. You won't get a `NameError` when using a variable set to `None`. \n",
    "\n",
    "When a variable is set to `None`, you can think of it as having been defined, but having no value."
   ]
  },
  {
   "cell_type": "code",
   "execution_count": null,
   "metadata": {},
   "outputs": [
    {
     "name": "stdout",
     "output_type": "stream",
     "text": [
      "None\n",
      "<class 'NoneType'>\n"
     ]
    }
   ],
   "source": [
    "my_variable = None\n",
    "print(my_variable)\n",
    "print(type(my_variable))"
   ]
  },
  {
   "cell_type": "markdown",
   "metadata": {},
   "source": [
    "### Note: Assignment vs Equality\n",
    "\n",
    "We've now shown how to assign values to variables using the assignment operator `=`, which takes the value on the right and assigns it to the variable on the left.\n",
    "\n",
    "This might be a bit confusing as the meaning of `=` in mathematics and normal life is \"equality\". If you do want to check if two python objects are equal, you can use the equality operator `==`. This will return `True` if the objects are equal, and `False` otherwise."
   ]
  },
  {
   "cell_type": "code",
   "execution_count": 7,
   "metadata": {},
   "outputs": [
    {
     "name": "stdout",
     "output_type": "stream",
     "text": [
      "10 == 10 is True\n",
      "10 == 20 is False\n",
      "10 != 10 is False\n",
      "10 != 20 is True\n"
     ]
    }
   ],
   "source": [
    "print(\"10 == 10 is\", 10 == 10)\n",
    "print(\"10 == 20 is\", 10 == 20)\n",
    "# You can also use the \"Not Equals\" operator `!=` to check if two values are not equal to one another.\n",
    "print(\"10 != 10 is\", 10 != 10)\n",
    "print(\"10 != 20 is\", 10 != 20)"
   ]
  },
  {
   "cell_type": "markdown",
   "metadata": {},
   "source": [
    "Python also has an identity operator `is`, which you may encounter occasionally. In contrast to `==`:\n",
    "* `is` checks if the two operands are _the same object_\n",
    "* `==` checks if the two operands are equal _in value_"
   ]
  },
  {
   "cell_type": "code",
   "execution_count": 8,
   "metadata": {},
   "outputs": [
    {
     "name": "stdout",
     "output_type": "stream",
     "text": [
      "a == b True\n",
      "a is b False\n",
      "Unique id no. of a: 2013017142384\n",
      "Unique id no. of b: 2013017142256\n"
     ]
    }
   ],
   "source": [
    "a = 10000\n",
    "b = 10000\n",
    "# This is True, as the values of a and b are both 10000.\n",
    "print(\"a == b\", a == b)\n",
    "# This is False, as a and b are different variables.\n",
    "print(\"a is b\", a is b)\n",
    "# This is because a and b have different unique IDs:\n",
    "print(\"Unique id no. of a:\", id(a))\n",
    "print(\"Unique id no. of b:\", id(b))\n"
   ]
  },
  {
   "cell_type": "markdown",
   "metadata": {},
   "source": [
    "In practice `==` is much more commonly used. The main application of `is` in practice is to check if an object is the special value `None`, as recommended in the [PEP 8 Python style guide](https://peps.python.org/pep-0008/):"
   ]
  },
  {
   "cell_type": "code",
   "execution_count": 9,
   "metadata": {},
   "outputs": [
    {
     "name": "stdout",
     "output_type": "stream",
     "text": [
      "a is None True\n",
      "a == None True\n"
     ]
    }
   ],
   "source": [
    "a = None\n",
    "# This is the recommended way to compare objects to None:\n",
    "print(\"a is None\", a is None)\n",
    "# This will give the same result in this case, but can give unexpected results in some cases.\n",
    "print(\"a == None\", a == None)"
   ]
  },
  {
   "cell_type": "markdown",
   "metadata": {},
   "source": [
    "To summarise, use `is` or `is not` to compare an object to `None`, and `==` otherwise."
   ]
  },
  {
   "cell_type": "markdown",
   "metadata": {},
   "source": [
    "## 2. Operators\n",
    "\n",
    "We've now seen how to use the assignment operator `=`. Python also has other operators, including `*`, `/`, `-` and `+`, which can be used to perform arithmetic and for other purposes.\n",
    "\n",
    "These are known as binary operators (here \"binary\" means they take _two_ inputs, and isn't related to the number system that uses 0 and 1)."
   ]
  },
  {
   "cell_type": "code",
   "execution_count": 14,
   "metadata": {},
   "outputs": [
    {
     "name": "stdout",
     "output_type": "stream",
     "text": [
      "10 * 20 == 200\n",
      "10 / 2 == 5.0\n",
      "5.2 + 10 == 15.2\n",
      "3 - 2 == 1\n",
      "10**2 == 100\n",
      "10 // 3 == 3\n",
      "10 % 3 == 1\n"
     ]
    }
   ],
   "source": [
    "# The * operator multiplies numbers:\n",
    "print(\"10 * 20 ==\", 10 * 20)\n",
    "# / performs division:\n",
    "print(\"10 / 2 ==\", 10 / 2)\n",
    "# + performs addition, and - subtraction:\n",
    "print(\"5.2 + 10 ==\", 5.2 + 10)\n",
    "print(\"3 - 2 ==\", 3 - 2)\n",
    "\n",
    "# There are some other operators you might be less familiar with:\n",
    "# ** takes a number to a power, for example 10**2 is 10 squared:\n",
    "print(\"10**2 ==\", 10**2)\n",
    "# // is the integer division operator, it performs division and discards the remainder\n",
    "# (the part after the decimal point).\n",
    "print(\"10 // 3 ==\", 10 // 3) # This is 3, not 3.3333...\n",
    "# % is the modulo operator, and gives the remainder of division:\n",
    "print(\"10 % 3 ==\", 10 % 3)"
   ]
  },
  {
   "cell_type": "markdown",
   "metadata": {},
   "source": [
    "#### Exercise: Testing Operators on Strings\n",
    "\n",
    "Operators like `+` and `*` can also be applied to other datatypes, like `str`. Here I'd encourage you to test this out, and understand how they are used.\n",
    "\n",
    "Try adding together two strings with the `+` operator - what is the result?"
   ]
  },
  {
   "cell_type": "code",
   "execution_count": 20,
   "metadata": {},
   "outputs": [],
   "source": [
    "# Try this here."
   ]
  },
  {
   "cell_type": "markdown",
   "metadata": {},
   "source": [
    "Now try multiplying a string by a number. What happens if you use an integer, like `10`? What happens if you use a floating-point value like `10.1`?"
   ]
  },
  {
   "cell_type": "code",
   "execution_count": 19,
   "metadata": {},
   "outputs": [],
   "source": [
    "# Try this here"
   ]
  }
 ],
 "metadata": {
  "kernelspec": {
   "display_name": "Python 3.8.5 ('base')",
   "language": "python",
   "name": "python3"
  },
  "language_info": {
   "codemirror_mode": {
    "name": "ipython",
    "version": 3
   },
   "file_extension": ".py",
   "mimetype": "text/x-python",
   "name": "python",
   "nbconvert_exporter": "python",
   "pygments_lexer": "ipython3",
   "version": "3.8.5"
  },
  "orig_nbformat": 4,
  "vscode": {
   "interpreter": {
    "hash": "c921a71fa7d5301530abc76a09084737c3fca4b7328b11bbb5dba4e94f78eaed"
   }
  }
 },
 "nbformat": 4,
 "nbformat_minor": 2
}
