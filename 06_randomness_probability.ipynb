{
 "cells": [
  {
   "cell_type": "markdown",
   "source": [
    "# Randomness and Probability\n",
    "\n",
    "In this tutorial we will cover ways to generate random numbers in numpy following a variety of different distributions. We will look at loading and analysing some data, and applying Bayes' rule to determine conditional probability."
   ],
   "metadata": {}
  },
  {
   "cell_type": "markdown",
   "source": [
    "## Loading and Saving Data\n",
    "\n",
    "First we'll look at how to save or load data in numpy. There are a variety of ways to save python objects - for a more general approach to save any python object, we would encourage you to look into the [pickle package](https://docs.python.org/3/library/pickle.html).\n",
    "\n",
    "Here we will use the native functions in numpy to save and load data. The simplest is `numpy.save()`, which can be used to save a single numpy array to a file, in `.npy` file format."
   ],
   "metadata": {}
  },
  {
   "cell_type": "markdown",
   "source": [
    "### Exceptions\n",
    "\n",
    "First we'll very quickly cover exception handling. We've encountered lots of examples before where we'd do something incorrect, and python would raise some form of exception. For example, accessing a variable that hasn't been defined leads to a `NameError`.\n",
    "\n",
    "So far we've just let these exceptions happen. Sometimes, however, when a particular kind of exception happens we might want to \"handle\" the exception using some specially written code. This can be achieved using a `try` block."
   ],
   "metadata": {}
  },
  {
   "cell_type": "code",
   "execution_count": 4,
   "source": [
    "# In the try block, we put the code we want to run, that may cause an exception to be raised.\n",
    "try:\n",
    "    print(undefined_variable)\n",
    "except NameError:\n",
    "    print(\"A NameError happened here, but I handled it!\")\n",
    "\n",
    "# In the except block, we specify what exceptions we will handle (here NameError) and then provide \n",
    "# a block of code to handle the exception."
   ],
   "outputs": [
    {
     "output_type": "stream",
     "name": "stdout",
     "text": [
      "A NameError happened here, but I handled it!\n"
     ]
    }
   ],
   "metadata": {}
  },
  {
   "cell_type": "markdown",
   "source": [
    "Note that the `NameError` exception log is not shown, as the exception was handled.\n",
    "\n",
    "`try` blocks can also have a `finally` block. This contains code that will always execute, even if an exception is raised. The most common use case for this is to close a file or other resource if an error happens, so the file isn't corrupted."
   ],
   "metadata": {}
  },
  {
   "cell_type": "code",
   "execution_count": 9,
   "source": [
    "import math\n",
    "try:\n",
    "    math.sqrt(-1) # This will throw a ValueError as sqrt(-1) is not a real number.\n",
    "    print(\"This won't be executed, as the exception has been raised\")\n",
    "except ValueError:\n",
    "    print(\"Handling the exception\")\n",
    "finally:\n",
    "    print(\"This will always be executed, even if an exception is raised.\")\n"
   ],
   "outputs": [
    {
     "output_type": "stream",
     "name": "stdout",
     "text": [
      "Handling the exception\n",
      "This will always be executed, even if an exception is raised.\n"
     ]
    }
   ],
   "metadata": {}
  },
  {
   "cell_type": "markdown",
   "source": [
    "### Files and file handles\n",
    "\n",
    "Python has a built in function `open()` for opening files for both reading and writing.\n",
    "\n",
    "This returns a file handle, which is an object representing the file. It's used by both built-in python functions like `write()` as well as other library functions (including `numpy.save()`).\n",
    "\n",
    "When we open the file, we want to be exception safe. Because of this we'll use a `try` block with a `finally` clause that closes the file, so even if something goes wrong during writing, the file will definitely be closed."
   ],
   "metadata": {}
  },
  {
   "cell_type": "code",
   "execution_count": 10,
   "source": [
    "try:\n",
    "    file_handle = open(\"output/test_text.txt\", \"w\") \n",
    "    # The \"w\" argument is a string that specifies the file mode.\n",
    "    # Here it's \"w\" which means write.\n",
    "    file_handle.write(\"This is a test string\")\n",
    "finally:\n",
    "    file_handle.close()"
   ],
   "outputs": [],
   "metadata": {}
  },
  {
   "cell_type": "markdown",
   "source": [
    "This works fine, but writing to files is something we do all the time, and this is a bit tedious to write. It's also easy to make a mistake and forget to close a file.\n",
    "\n",
    "Fortunately, python has a handy `with` statement, which lets you open a file for a block of code. It automatically closes the file at the end, and is exception safe, just like the example above."
   ],
   "metadata": {}
  },
  {
   "cell_type": "code",
   "execution_count": 12,
   "source": [
    "with open(\"output/test_text.txt\", \"w\") as file_handle:\n",
    "    file_handle.write(\"This is another test string\")"
   ],
   "outputs": [],
   "metadata": {}
  },
  {
   "cell_type": "markdown",
   "source": [
    "### Saving a single numpy array\n",
    "\n",
    "First we'll try saving a single numpy array.\n",
    "\n",
    "TODO binary mode, saving"
   ],
   "metadata": {}
  },
  {
   "cell_type": "code",
   "execution_count": 2,
   "source": [
    "import numpy as np\n",
    "\n",
    "array = np.random.rand(10, 10, 10)\n",
    "\n",
    "# Here we use a \"with\" statement.\n",
    "with open(\"output/saved_array.npy\", \"wb\") as my_file: \n",
    "    np.save(my_file, array)"
   ],
   "outputs": [],
   "metadata": {}
  },
  {
   "cell_type": "code",
   "execution_count": null,
   "source": [],
   "outputs": [],
   "metadata": {}
  }
 ],
 "metadata": {
  "orig_nbformat": 4,
  "language_info": {
   "name": "python",
   "version": "3.8.5",
   "mimetype": "text/x-python",
   "codemirror_mode": {
    "name": "ipython",
    "version": 3
   },
   "pygments_lexer": "ipython3",
   "nbconvert_exporter": "python",
   "file_extension": ".py"
  },
  "kernelspec": {
   "name": "python3",
   "display_name": "Python 3.8.5 64-bit ('base': conda)"
  },
  "interpreter": {
   "hash": "c499e9b546c6de67782f03323179e69664fe5217ad4be3e56793063e25fbdeaf"
  }
 },
 "nbformat": 4,
 "nbformat_minor": 2
}