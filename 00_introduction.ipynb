{
 "cells": [
  {
   "cell_type": "markdown",
   "source": [
    "# Introduction to Jupyter Notebook\r\n",
    "\r\n",
    "The code for this introductory course will be provided in the form of Jupyter notebooks. These are files which can contain a mixture of python code and text, written in [Markdown](https://guides.github.com/features/mastering-markdown/) format.\r\n",
    "\r\n",
    "You can view and run these notebooks in a variety of ways. One way is to type `$ jupyter notebook` into a terminal with python and jupyter installed. This will start a local jupyter notebook server, and open a page in your web browser. From here you can select the `.ipynb` notebook file you would like to view.\r\n",
    "\r\n",
    "There are also online services which allow you to create and run notebooks such as [Google Colab](https://colab.research.google.com/).\r\n",
    "\r\n",
    "They can also be opened using [Visual Studio Code](https://code.visualstudio.com/) with the [jupyter notebook extension](https://code.visualstudio.com/docs/datascience/jupyter-notebooks), but this also requires that you have python and jupyter installed locally.\r\n",
    "\r\n",
    "For more details on how to get started, either with Colab or a local notebook server, please see the Getting Started section below."
   ],
   "metadata": {}
  },
  {
   "cell_type": "markdown",
   "source": [
    "Below is a code cell. This contains some python code which you can run by clicking the \"Execute Cell\" button next to it.\n",
    "\n",
    "Don't worry too much about the content of these code cells, we will explain the purpose of the code in the upcoming tutorials."
   ],
   "metadata": {}
  },
  {
   "cell_type": "code",
   "execution_count": 2,
   "source": [
    "a = 10\r\n",
    "b = 20"
   ],
   "outputs": [],
   "metadata": {}
  },
  {
   "cell_type": "markdown",
   "source": [
    "Note that after executing a cell, the notebook keeps its state, meaning that any variables or functions you have defined will still exist when running other cells:"
   ],
   "metadata": {}
  },
  {
   "cell_type": "code",
   "execution_count": 3,
   "source": [
    "print(\"The value of a is\", a)\r\n",
    "print(\"The value of b is\", b)"
   ],
   "outputs": [
    {
     "output_type": "stream",
     "name": "stdout",
     "text": [
      "The value of a is 10\n",
      "The value of b is 20\n"
     ]
    }
   ],
   "metadata": {}
  },
  {
   "cell_type": "markdown",
   "source": [
    "As you see above, you can use commands like `print()` just as you would in a regular python program, and the results will appear below the cell when it is executed.\r\n",
    "\r\n",
    "The results will be displayed immediately, jupyter does not wait until a cell has finished executing fully to display output:"
   ],
   "metadata": {}
  },
  {
   "cell_type": "code",
   "execution_count": 4,
   "source": [
    "import time\r\n",
    "# This code writes the first print statement...\r\n",
    "print(\"First print statement\")\r\n",
    "\r\n",
    "# Then waits for 1 second...\r\n",
    "time.sleep(1.0)\r\n",
    "\r\n",
    "# Then prints the second print statement.\r\n",
    "print(\"Second print statement\")\r\n",
    "\r\n",
    "# Notice that when you click run, the first print statement appears straight away - it doesn't wait\r\n",
    "# for the whole code block to finish running first."
   ],
   "outputs": [
    {
     "output_type": "stream",
     "name": "stdout",
     "text": [
      "First print statement\n",
      "Second print statement\n"
     ]
    }
   ],
   "metadata": {}
  },
  {
   "cell_type": "markdown",
   "source": [
    "## Getting Started\r\n",
    "\r\n",
    "### Google Colab\r\n",
    "\r\n",
    "Colab may be the quickest way to get started if you do not already have python installed. It has the advantage of working in a web browser, meaning it is accessible from any OS.\r\n",
    "\r\n",
    "To use Colab, go to https://colab.research.google.com/, and log in to your Google account if necessary.\r\n",
    "\r\n",
    "To open a notebook, you can either upload it to your google drive folder, open a notebook from a Github repository, or upload the file directly.\r\n",
    "\r\n",
    "To do so, go to File -> Open or use the shortcut Ctrl+O.\r\n",
    "\r\n",
    "Colab should already have all the libraries required in this tutorial, so no further setup should be required.\r\n",
    "\r\n",
    "\r\n",
    "### Local Jupyter Server\r\n",
    "\r\n",
    "Running a local Jupyter server will require you to install python, and then jupyter, along with the other packages used in this tutorial (numpy, matplotlib and opencv).\r\n",
    "\r\n",
    "How you will do this will depend on your OS:\r\n",
    "\r\n",
    "#### Linux\r\n",
    "\r\n",
    "In Linux, it is probably easiest to install the most recent version of python and pip using your distribution's package manager. On Debian/Ubuntu, this would be:\r\n",
    "\r\n",
    "`$ sudo apt-get install python3 python3-pip`\r\n",
    "\r\n",
    "Note that if you are using a different distribution both the command and package name may be different, please look up the correct command for your distro.\r\n",
    "\r\n",
    "Now you can install the required packages:\r\n",
    "\r\n",
    "`$ pip3 install numpy matplotlib opencv-python jupyter`\r\n",
    "\r\n",
    "#### Windows\r\n",
    "\r\n",
    "On Windows I have had most success using [Anaconda](https://www.anaconda.com/products/individual).\r\n",
    "\r\n",
    "Once this is installed, you can open up an anaconda terminal from Start Menu -> Anaconda3 -> Anaconda Powershell Prompt.\r\n",
    "\r\n",
    "Here you can install the required packages with:\r\n",
    "\r\n",
    "`$ conda install numpy matplotlib jupyter opencv`\r\n",
    "\r\n",
    "#### Mac\r\n",
    "\r\n",
    "Anaconda is also available for Mac, and once installed, the packages can be installed in the same way as described for Windows above.\r\n",
    "\r\n",
    "Alternatively, python and pip can be installed using a package manager - two popular options are [Homebrew](https://brew.sh/) and [MacPorts](https://www.macports.org/).\r\n",
    "\r\n",
    "Once you have installed python and pip using the package manager of your choice, you can then install the packages with:\r\n",
    "\r\n",
    "`$ pip3 install numpy matplotlib opencv-python jupyter`\r\n",
    "\r\n",
    "### Pytorch\r\n",
    "\r\n",
    "The final examples in the differentiation notebook use Pytorch. If you're running a local Jupyter server I'd recommend installing pytorch following the [guide here](https://pytorch.org/get-started/locally/).\r\n",
    "\r\n",
    "The examples here do not use GPU, so installing the CPU-only version of pytorch will work fine. For Mac OS users, the CPU-only version is the only one available."
   ],
   "metadata": {}
  }
 ],
 "metadata": {
  "orig_nbformat": 4,
  "language_info": {
   "name": "python",
   "version": "3.8.5",
   "mimetype": "text/x-python",
   "codemirror_mode": {
    "name": "ipython",
    "version": 3
   },
   "pygments_lexer": "ipython3",
   "nbconvert_exporter": "python",
   "file_extension": ".py"
  },
  "kernelspec": {
   "name": "python3",
   "display_name": "Python 3.8.5 64-bit ('base': conda)"
  },
  "interpreter": {
   "hash": "86014d7f00cdc48111f14ffa351be1944e0fd5daba15176dac9ddff10091d234"
  }
 },
 "nbformat": 4,
 "nbformat_minor": 2
}