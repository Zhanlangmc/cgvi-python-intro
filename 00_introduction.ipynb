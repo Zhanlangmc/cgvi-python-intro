{
 "cells": [
  {
   "cell_type": "markdown",
   "metadata": {},
   "source": [
    "# Introduction to Jupyter Notebook\n",
    "\n",
    "The code for this introductory course will be provided in the form of Jupyter notebooks. These are files which can contain a mixture of python code and text, arranged into containers called cells (this is a text cell). \n",
    "\n",
    "Note that the text is written in [Markdown](https://guides.github.com/features/mastering-markdown/) format. Depending on how you're viewing this notebook, you may be able to click on this text to see & edit the markdown.\n",
    "\n",
    "If you're viewing this on Github, you won't be able to run and edit the code. I'd encourage you to look at `README.md` for instructions on how to set the notebook up so you can change the code yourself."
   ]
  },
  {
   "cell_type": "markdown",
   "metadata": {},
   "source": [
    "Below is a code cell. This contains some python code which you can run by clicking the \"Execute Cell\" button next to it.\n",
    "\n",
    "Depending on what platform you're running this notebook on, the button may look like a \"Play\" symbol. You may need to hover your mouse cursor over the cell to see it.\n",
    "\n",
    "Don't worry too much about the content of these code cells, we will explain the purpose of the code in the upcoming tutorials."
   ]
  },
  {
   "cell_type": "code",
   "execution_count": 1,
   "metadata": {},
   "outputs": [],
   "source": [
    "a = 10\n",
    "b = 20"
   ]
  },
  {
   "cell_type": "markdown",
   "metadata": {},
   "source": [
    "When you have run the cell, it will give you an indication (on Colab this is a tick symbol), and show you how long it took to run the code in seconds.\n",
    "\n",
    "Note that after executing a cell, the notebook keeps its state, meaning that any variables or functions you have defined will still exist when running other cells:"
   ]
  },
  {
   "cell_type": "code",
   "execution_count": 3,
   "metadata": {},
   "outputs": [
    {
     "name": "stdout",
     "output_type": "stream",
     "text": [
      "The value of a is 10\n",
      "The value of b is 20\n"
     ]
    }
   ],
   "source": [
    "print(\"The value of a is\", a) # This is a print statement, which can be used to display values.\n",
    "print(\"The value of b is\", b)"
   ]
  },
  {
   "cell_type": "markdown",
   "metadata": {},
   "source": [
    "As you see above, you can use commands like `print()` just as you would in a regular python program, and the results will appear below the cell when it is executed.\n",
    "\n",
    "The results will be displayed immediately, jupyter does not wait until a cell has finished executing fully to display output:"
   ]
  },
  {
   "cell_type": "code",
   "execution_count": 4,
   "metadata": {},
   "outputs": [
    {
     "name": "stdout",
     "output_type": "stream",
     "text": [
      "First print statement\n",
      "Second print statement\n"
     ]
    }
   ],
   "source": [
    "import time\n",
    "# This code writes the first print statement...\n",
    "print(\"First print statement\")\n",
    "\n",
    "# Then waits for 1 second...\n",
    "time.sleep(1.0)\n",
    "\n",
    "# Then prints the second print statement.\n",
    "print(\"Second print statement\")\n",
    "\n",
    "# Notice that when you click run, the first print statement appears straight away - it doesn't wait\n",
    "# for the whole code block to finish running first."
   ]
  },
  {
   "cell_type": "markdown",
   "metadata": {},
   "source": [
    "You can click in any code cell in the notebooks in this tutorial, edit the code and re-run it. Once you've run the code once, we encourage you to do this - try modifying the code and see how the results change. This should give you a much better understanding of how the code works."
   ]
  }
 ],
 "metadata": {
  "kernelspec": {
   "display_name": "Python 3.8.5 ('base')",
   "language": "python",
   "name": "python3"
  },
  "language_info": {
   "codemirror_mode": {
    "name": "ipython",
    "version": 3
   },
   "file_extension": ".py",
   "mimetype": "text/x-python",
   "name": "python",
   "nbconvert_exporter": "python",
   "pygments_lexer": "ipython3",
   "version": "3.8.5"
  },
  "orig_nbformat": 4,
  "vscode": {
   "interpreter": {
    "hash": "c921a71fa7d5301530abc76a09084737c3fca4b7328b11bbb5dba4e94f78eaed"
   }
  }
 },
 "nbformat": 4,
 "nbformat_minor": 2
}
