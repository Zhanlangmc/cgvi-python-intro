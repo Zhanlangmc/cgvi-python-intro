{
 "cells": [
  {
   "cell_type": "markdown",
   "source": [
    "# Introduction to Jupyter Notebook\r\n",
    "\r\n",
    "The code for this introductory course will be provided in the form of Jupyter notebooks. These are files which can contain a mixture of python code and text, written in [Markdown](https://guides.github.com/features/mastering-markdown/) format.\r\n",
    "\r\n",
    "You can view and run these notebooks in a variety of ways. One way is to type `$ jupyter notebook` into a terminal with python and jupyter installed. This will start a local jupyter notebook server, and open a page in your web browser. From here you can select the `.ipynb` notebook file you would like to view.\r\n",
    "\r\n",
    "There are also online services which allow you to create and run notebooks such as [Google Colab](https://colab.research.google.com/).\r\n",
    "\r\n",
    "They can also be opened using [Visual Studio Code](https://code.visualstudio.com/) with the [jupyter notebook extension](https://code.visualstudio.com/docs/datascience/jupyter-notebooks)."
   ],
   "metadata": {}
  },
  {
   "cell_type": "markdown",
   "source": [
    "Below is a code cell. This contains some python code which you can run by clicking the \"Execute Cell\" button next to it."
   ],
   "metadata": {}
  },
  {
   "cell_type": "code",
   "execution_count": 1,
   "source": [
    "a = 10\r\n",
    "b = 20"
   ],
   "outputs": [],
   "metadata": {}
  },
  {
   "cell_type": "markdown",
   "source": [
    "Note that after executing a cell, the notebook keeps its state, meaning that any variables or functions you have defined will still exist when running other cells:"
   ],
   "metadata": {}
  },
  {
   "cell_type": "code",
   "execution_count": 2,
   "source": [
    "print(\"The value of a is\", a)\r\n",
    "print(\"The value of b is\", b)"
   ],
   "outputs": [
    {
     "output_type": "stream",
     "name": "stdout",
     "text": [
      "The value of a is 10\n",
      "The value of b is 20\n"
     ]
    }
   ],
   "metadata": {}
  }
 ],
 "metadata": {
  "orig_nbformat": 4,
  "language_info": {
   "name": "python",
   "version": "3.8.5",
   "mimetype": "text/x-python",
   "codemirror_mode": {
    "name": "ipython",
    "version": 3
   },
   "pygments_lexer": "ipython3",
   "nbconvert_exporter": "python",
   "file_extension": ".py"
  },
  "kernelspec": {
   "name": "python3",
   "display_name": "Python 3.8.5 64-bit ('base': conda)"
  },
  "interpreter": {
   "hash": "86014d7f00cdc48111f14ffa351be1944e0fd5daba15176dac9ddff10091d234"
  }
 },
 "nbformat": 4,
 "nbformat_minor": 2
}