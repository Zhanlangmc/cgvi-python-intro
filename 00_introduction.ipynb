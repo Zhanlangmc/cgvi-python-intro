{
 "cells": [
  {
   "cell_type": "markdown",
   "source": [
    "# Introduction to Jupyter Notebook\r\n",
    "\r\n",
    "The code for this introductory course will be provided in the form of Jupyter notebooks. These are files which can contain a mixture of python code and text, arranged into containers called cells (this is a text cell). \r\n",
    "\r\n",
    "Note that the text is written in [Markdown](https://guides.github.com/features/mastering-markdown/) format. Depending on how you're viewing this notebook, you may be able to click on this text to see & edit the markdown.\r\n",
    "\r\n",
    "If you're viewing this on Github, you won't be able to run and edit the code. I'd encourage you to look at `README.md` for instructions on how to set the notebook up so you can change the code yourself."
   ],
   "metadata": {}
  },
  {
   "cell_type": "markdown",
   "source": [
    "Below is a code cell. This contains some python code which you can run by clicking the \"Execute Cell\" button next to it.\r\n",
    "\r\n",
    "Depending on what platform you're running this notebook on, the button may look like a \"Play\" symbol. You may need to hover your mouse cursor over the cell to see it.\r\n",
    "\r\n",
    "Don't worry too much about the content of these code cells, we will explain the purpose of the code in the upcoming tutorials."
   ],
   "metadata": {}
  },
  {
   "cell_type": "code",
   "execution_count": 1,
   "source": [
    "a = 10\r\n",
    "b = 20"
   ],
   "outputs": [],
   "metadata": {}
  },
  {
   "cell_type": "markdown",
   "source": [
    "When you have run the cell, it will give you an indication (on Colab this is a tick symbol), and show you how long it took to run the code in seconds.\r\n",
    "\r\n",
    "Note that after executing a cell, the notebook keeps its state, meaning that any variables or functions you have defined will still exist when running other cells:"
   ],
   "metadata": {}
  },
  {
   "cell_type": "code",
   "execution_count": 3,
   "source": [
    "print(\"The value of a is\", a) # This is a print statement, which can be used to display values.\r\n",
    "print(\"The value of b is\", b)"
   ],
   "outputs": [
    {
     "output_type": "stream",
     "name": "stdout",
     "text": [
      "The value of a is 10\n",
      "The value of b is 20\n"
     ]
    }
   ],
   "metadata": {}
  },
  {
   "cell_type": "markdown",
   "source": [
    "As you see above, you can use commands like `print()` just as you would in a regular python program, and the results will appear below the cell when it is executed.\r\n",
    "\r\n",
    "The results will be displayed immediately, jupyter does not wait until a cell has finished executing fully to display output:"
   ],
   "metadata": {}
  },
  {
   "cell_type": "code",
   "execution_count": 4,
   "source": [
    "import time\r\n",
    "# This code writes the first print statement...\r\n",
    "print(\"First print statement\")\r\n",
    "\r\n",
    "# Then waits for 1 second...\r\n",
    "time.sleep(1.0)\r\n",
    "\r\n",
    "# Then prints the second print statement.\r\n",
    "print(\"Second print statement\")\r\n",
    "\r\n",
    "# Notice that when you click run, the first print statement appears straight away - it doesn't wait\r\n",
    "# for the whole code block to finish running first."
   ],
   "outputs": [
    {
     "output_type": "stream",
     "name": "stdout",
     "text": [
      "First print statement\n",
      "Second print statement\n"
     ]
    }
   ],
   "metadata": {}
  },
  {
   "cell_type": "markdown",
   "source": [
    "You can click in any code cell in the notebooks in this tutorial, edit the code and re-run it. Once you've run the code once, we encourage you to do this - try modifying the code and see how the results change. This should give you a much better understanding of how the code works."
   ],
   "metadata": {}
  }
 ],
 "metadata": {
  "orig_nbformat": 4,
  "language_info": {
   "name": "python",
   "version": "3.8.5",
   "mimetype": "text/x-python",
   "codemirror_mode": {
    "name": "ipython",
    "version": 3
   },
   "pygments_lexer": "ipython3",
   "nbconvert_exporter": "python",
   "file_extension": ".py"
  },
  "kernelspec": {
   "name": "python3",
   "display_name": "Python 3.8.5 64-bit ('base': conda)"
  },
  "interpreter": {
   "hash": "86014d7f00cdc48111f14ffa351be1944e0fd5daba15176dac9ddff10091d234"
  }
 },
 "nbformat": 4,
 "nbformat_minor": 2
}