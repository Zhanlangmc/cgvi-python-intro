{
 "cells": [
  {
   "cell_type": "markdown",
   "source": [
    "# Numpy\r\n",
    "\r\n",
    "Numpy is a python library that is widely used for mathematics, computer vision and a wide variety of other applications.\r\n",
    "\r\n",
    "The main data structure in Numpy is the `array`. Most of this tutorial will focus on how to create and manipulate arrays."
   ],
   "metadata": {}
  },
  {
   "cell_type": "markdown",
   "source": [
    "First of all we need to import the numpy library. Here I've used the `as` syntax to create an alias for `numpy`. This means we can refer to it using the shorthand `np` in the code."
   ],
   "metadata": {}
  },
  {
   "cell_type": "code",
   "execution_count": 17,
   "source": [
    "import numpy as np"
   ],
   "outputs": [],
   "metadata": {}
  },
  {
   "cell_type": "markdown",
   "source": [
    "A numpy array stores a number of elements of the same datatype. In this way it is similar to a python list, but they address some of the shortcomings of python lists. \r\n",
    "\r\n",
    "Whilst lists are one-dimensional, numpy arrays can have any number of dimensions, so they can represent vectors, matrices or tensors.\r\n",
    "\r\n",
    "Unlike lists, numpy arrays have a set datatype and will only contain elements of that type. This is more restrictive, but means that arrays are more memory-efficient and performing operations on them is faster."
   ],
   "metadata": {}
  },
  {
   "cell_type": "markdown",
   "source": [
    "Arrays can be created in a number of ways:"
   ],
   "metadata": {}
  },
  {
   "cell_type": "code",
   "execution_count": 18,
   "source": [
    "# Creating from python lists:\r\n",
    "vector = np.array([0,1,2,3])\r\n",
    "matrix = np.array([ [1, 0, 0, 0],\r\n",
    "                    [0, 1, 0, 0],\r\n",
    "                    [0, 0, 1, 0],\r\n",
    "                    [0, 0, 0, 1]])\r\n",
    "\r\n",
    "# Making arrays of ones or zeros\r\n",
    "ones = np.ones([10,10])\r\n",
    "zeros = np.ones([3,5,2])\r\n",
    "\r\n",
    "# Making a 4x4 identity matrix\r\n",
    "identity = np.eye(4)\r\n",
    "\r\n",
    "# Making random arrays\r\n",
    "rand_array = np.random.random([5,2]) # Drawn from uniform random distribution on [0,1)\r\n",
    "rand_array2 = np.random.normal([3,3,3]) #Drawn from a standard normal distribution (mean 0, stdev 1)"
   ],
   "outputs": [],
   "metadata": {}
  },
  {
   "cell_type": "markdown",
   "source": [
    "They are indexed in the same way as arrays, using square brackets. When the array has more than one dimension, the indices are separated by commas."
   ],
   "metadata": {}
  },
  {
   "cell_type": "code",
   "execution_count": 19,
   "source": [
    "a = vector[2]\r\n",
    "print(a)\r\n",
    "b = matrix[3,3]\r\n",
    "print(b)"
   ],
   "outputs": [
    {
     "output_type": "stream",
     "name": "stdout",
     "text": [
      "2\n",
      "1\n"
     ]
    }
   ],
   "metadata": {}
  },
  {
   "cell_type": "markdown",
   "source": [
    "Slices also work on numpy arrays, just like lists."
   ],
   "metadata": {}
  },
  {
   "cell_type": "code",
   "execution_count": 20,
   "source": [
    "print(vector[1:])\r\n",
    "print(matrix[:,2])"
   ],
   "outputs": [
    {
     "output_type": "stream",
     "name": "stdout",
     "text": [
      "[1 2 3]\n",
      "[0 0 1 0]\n"
     ]
    }
   ],
   "metadata": {}
  },
  {
   "cell_type": "markdown",
   "source": [
    "You can find out the dimensions of an array using the `shape` property."
   ],
   "metadata": {}
  },
  {
   "cell_type": "code",
   "execution_count": 21,
   "source": [
    "print(rand_array.shape)\r\n",
    "print(rand_array.shape[1]) # shape is a tuple, so you can access elements of it"
   ],
   "outputs": [
    {
     "output_type": "stream",
     "name": "stdout",
     "text": [
      "(5, 2)\n",
      "2\n"
     ]
    }
   ],
   "metadata": {}
  },
  {
   "cell_type": "markdown",
   "source": [
    "Arrays have a set datatype, and all elements of an array must be of the same type. However, we can convert arrays from one type to another."
   ],
   "metadata": {}
  },
  {
   "cell_type": "code",
   "execution_count": 22,
   "source": [
    "print(vector.dtype) # vector was initially made from a list of ints, so its type is int32\r\n",
    "float_vector = vector.astype(np.float32) # but we can convert it to an array of floats\r\n",
    "print(float_vector.dtype)"
   ],
   "outputs": [
    {
     "output_type": "stream",
     "name": "stdout",
     "text": [
      "int32\n",
      "float32\n"
     ]
    }
   ],
   "metadata": {}
  },
  {
   "cell_type": "markdown",
   "source": [
    "The types available in numpy start with the format, like `int`, `uint` (unsigned int), `float` or `complex`. They end in an integer that says how many bits each item in the array takes up.\r\n",
    "\r\n",
    "For example, `np.float32` is a 32-bit (single-precision) floating point datatype. `np.uint8` is an 8-bit unsigned integer datatype."
   ],
   "metadata": {}
  },
  {
   "cell_type": "markdown",
   "source": [
    "Mathematical operations work on arrays, and all of the standard operations `+ - * /` work element-wise.\r\n",
    "\r\n",
    "This means they're equivalent to running through the arrays in a for loop and applying the operation to each pair of elements, like this:"
   ],
   "metadata": {}
  },
  {
   "cell_type": "code",
   "execution_count": 23,
   "source": [
    "array_1 = np.array([1,1,1])\r\n",
    "array_2 = np.array([2,2,2])\r\n",
    "\r\n",
    "# You could multiply these arrays element-wise with a for loop like this:\r\n",
    "result = np.zeros([3])\r\n",
    "for i in range(array_1.shape[0]):\r\n",
    "    result[i] = array_1[i] * array_2[i]\r\n",
    "print(result)\r\n",
    "\r\n",
    "# But using the operator * is quicker to write, and runs faster too:\r\n",
    "result = array_1 * array_2"
   ],
   "outputs": [
    {
     "output_type": "stream",
     "name": "stdout",
     "text": [
      "[2. 2. 2.]\n"
     ]
    }
   ],
   "metadata": {}
  },
  {
   "cell_type": "markdown",
   "source": [
    "Note that `array_1 * array_2` *does not* perform matrix multiplication. For this you must use `np.matmul()`."
   ],
   "metadata": {}
  },
  {
   "cell_type": "code",
   "execution_count": 24,
   "source": [
    "array_1 = np.eye(3)\r\n",
    "array_2 = np.ones([3,3])*2.0\r\n",
    "\r\n",
    "# This will do element-wise multiplication, and give a diagonal matrix.\r\n",
    "print(\"Multiply\\n\", array_1 * array_2)\r\n",
    "\r\n",
    "# This does proper matrix multiplication with an identity matrix, so will just output array_2.\r\n",
    "print(\"Matrix multiply\\n\", np.matmul(array_1, array_2))"
   ],
   "outputs": [
    {
     "output_type": "stream",
     "name": "stdout",
     "text": [
      "Multiply\n",
      " [[2. 0. 0.]\n",
      " [0. 2. 0.]\n",
      " [0. 0. 2.]]\n",
      "Matrix multiply\n",
      " [[2. 2. 2.]\n",
      " [2. 2. 2.]\n",
      " [2. 2. 2.]]\n"
     ]
    }
   ],
   "metadata": {}
  }
 ],
 "metadata": {
  "orig_nbformat": 4,
  "language_info": {
   "name": "python",
   "version": "3.8.5",
   "mimetype": "text/x-python",
   "codemirror_mode": {
    "name": "ipython",
    "version": 3
   },
   "pygments_lexer": "ipython3",
   "nbconvert_exporter": "python",
   "file_extension": ".py"
  },
  "kernelspec": {
   "name": "python3",
   "display_name": "Python 3.8.5 64-bit ('base': conda)"
  },
  "interpreter": {
   "hash": "86014d7f00cdc48111f14ffa351be1944e0fd5daba15176dac9ddff10091d234"
  }
 },
 "nbformat": 4,
 "nbformat_minor": 2
}