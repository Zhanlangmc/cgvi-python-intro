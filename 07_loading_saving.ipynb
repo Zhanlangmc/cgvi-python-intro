{
 "cells": [
  {
   "cell_type": "markdown",
   "source": [
    "# Loading and Saving Data\r\n",
    "\r\n",
    "Here we'll look at how to save or load data in numpy. There are a variety of ways to save python objects - for a more general approach to save any python object, we would encourage you to look into the [pickle package](https://docs.python.org/3/library/pickle.html).\r\n",
    "\r\n",
    "Here we will use the native functions in numpy to save and load data. The simplest is `numpy.save()`, which can be used to save a single numpy array to a file, in `.npy` file format."
   ],
   "metadata": {}
  },
  {
   "cell_type": "markdown",
   "source": [
    "### Exceptions\n",
    "\n",
    "First we'll very quickly cover exception handling. We've encountered lots of examples before where we'd do something incorrect, and python would raise some form of exception. For example, accessing a variable that hasn't been defined leads to a `NameError`.\n",
    "\n",
    "So far we've just let these exceptions happen. Sometimes, however, when a particular kind of exception happens we might want to \"handle\" the exception using some specially written code. This can be achieved using a `try` block."
   ],
   "metadata": {}
  },
  {
   "cell_type": "code",
   "execution_count": 4,
   "source": [
    "# In the try block, we put the code we want to run, that may cause an exception to be raised.\r\n",
    "try:\r\n",
    "    print(undefined_variable)\r\n",
    "except NameError:\r\n",
    "    print(\"A NameError happened here, but I handled it!\")\r\n",
    "\r\n",
    "# In the except block, we specify what exceptions we will handle (here NameError) and then provide \r\n",
    "# a block of code to handle the exception."
   ],
   "outputs": [
    {
     "output_type": "stream",
     "name": "stdout",
     "text": [
      "A NameError happened here, but I handled it!\n"
     ]
    }
   ],
   "metadata": {}
  },
  {
   "cell_type": "markdown",
   "source": [
    "Note that the `NameError` exception log is not shown, as the exception was handled.\r\n",
    "\r\n",
    "Handling exceptions is important - if an exception is not handled, python will just display the error message and trace for the exception, and immediately exit the current program. This is very often not desired behaviour. \r\n",
    "\r\n",
    "For example, if you were writing a calculator program in python, whenever a user attempted to calculate the square root of a negative number, if you use `math.sqrt(-1)` for example it will throw a `ValueError` and exit the calculator program completely.\r\n",
    "\r\n",
    "How you want to handle exceptions will depend on the situation. In the calculator example, you might handle it by showing an error message to the user, but then keep the program running.\r\n",
    "\r\n",
    "`try` blocks can also have a `finally` block. This contains code that will always execute, even if an exception is raised. The most common use case for this is to close a file or other resource if an error happens, so the file isn't corrupted."
   ],
   "metadata": {}
  },
  {
   "cell_type": "code",
   "execution_count": 9,
   "source": [
    "import math\r\n",
    "try:\r\n",
    "    math.sqrt(-1) # This will throw a ValueError as sqrt(-1) is not a real number.\r\n",
    "    print(\"This won't be executed, as the exception has been raised\")\r\n",
    "except ValueError:\r\n",
    "    print(\"Handling the exception\")\r\n",
    "finally:\r\n",
    "    print(\"This will always be executed, even if an exception is raised.\")\r\n"
   ],
   "outputs": [
    {
     "output_type": "stream",
     "name": "stdout",
     "text": [
      "Handling the exception\n",
      "This will always be executed, even if an exception is raised.\n"
     ]
    }
   ],
   "metadata": {}
  },
  {
   "cell_type": "markdown",
   "source": [
    "### Files and file handles\r\n",
    "\r\n",
    "Python has a built in function `open()` for opening files for both reading and writing.\r\n",
    "\r\n",
    "This returns a file handle, which is an object representing the file. It's used by both built-in python functions like `write()` as well as other library functions (including `numpy.save()`).\r\n",
    "\r\n",
    "When we open the file, we want to be exception safe. This means that even if an exception occurs, we want to make sure the file is properly closed.\r\n",
    "\r\n",
    "Because of this we'll use a `try` block with a `finally` clause that closes the file, so even if something goes wrong during writing, the file will definitely be closed."
   ],
   "metadata": {}
  },
  {
   "cell_type": "code",
   "execution_count": 10,
   "source": [
    "try:\r\n",
    "    file_handle = open(\"output/test_text.txt\", \"w\") \r\n",
    "    # The \"w\" argument is a string that specifies the file mode.\r\n",
    "    # Here it's \"w\" which means write.\r\n",
    "    file_handle.write(\"This is a test string\")\r\n",
    "finally:\r\n",
    "    file_handle.close()"
   ],
   "outputs": [],
   "metadata": {}
  },
  {
   "cell_type": "markdown",
   "source": [
    "This works fine, but writing to files is something we do all the time, and this is a bit tedious to write. It's also easy to make a mistake and forget to close a file.\n",
    "\n",
    "Fortunately, python has a handy `with` statement, which lets you open a file for a block of code. It automatically closes the file at the end, and is exception safe, just like the example above."
   ],
   "metadata": {}
  },
  {
   "cell_type": "code",
   "execution_count": 12,
   "source": [
    "with open(\"output/test_text.txt\", \"w\") as file_handle:\r\n",
    "    file_handle.write(\"This is another test string\")"
   ],
   "outputs": [],
   "metadata": {}
  },
  {
   "cell_type": "markdown",
   "source": [
    "### Saving a single numpy array\r\n",
    "\r\n",
    "First we'll try saving a single numpy array.\r\n",
    "\r\n",
    "By default, in python files are opened in text mode. In this mode, you can only write text to the file, in the form of strings. However, `np.save()` does not save the array in text format. It saves the individual floating-point values in the array to the file directly.\r\n",
    "\r\n",
    "This is more efficient - for example consider saving the floating-point number `0.123456789`. If we save this as the string `\"0.123456789\"` it will occupy 11 bytes, one for each character in the string. But if the number is in 32-bit floating-point format, saving it directly will only occupy 4 bytes, using less than half as much memory.\r\n",
    "\r\n",
    "Because of this, when using `np.save()`, it's important that the file is opened in `binary` mode. This is achieved by adding a `\"b\"` to the code supplied to the `open()` function, giving `\"wb\"`."
   ],
   "metadata": {}
  },
  {
   "cell_type": "code",
   "execution_count": 4,
   "source": [
    "import numpy as np\r\n",
    "\r\n",
    "array = np.random.rand(10)\r\n",
    "\r\n",
    "print(array)\r\n",
    "\r\n",
    "# Here we use a \"with\" statement.\r\n",
    "with open(\"output/saved_array.npy\", \"wb\") as my_file: \r\n",
    "    np.save(my_file, array)"
   ],
   "outputs": [
    {
     "output_type": "stream",
     "name": "stdout",
     "text": [
      "[0.56065491 0.93592615 0.1435093  0.20030585 0.8886329  0.88121859\n",
      " 0.32222262 0.58558401 0.03223827 0.73172377]\n"
     ]
    }
   ],
   "metadata": {}
  },
  {
   "cell_type": "markdown",
   "source": [
    "Now, let's try loading the array and check the contents are the same. To load the file, we need to open it in \"read\" mode, using the code `\"rb\"`."
   ],
   "metadata": {}
  },
  {
   "cell_type": "code",
   "execution_count": 6,
   "source": [
    "with open(\"output/saved_array.npy\", \"rb\") as my_file:\r\n",
    "    loaded_array = np.load(my_file)\r\n",
    "\r\n",
    "print(loaded_array)\r\n",
    "if np.array_equal(loaded_array, array): # We don't need to use allclose() here as the arrays should be identical.\r\n",
    "    print(\"The arrays are the same!\")"
   ],
   "outputs": [
    {
     "output_type": "stream",
     "name": "stdout",
     "text": [
      "[0.56065491 0.93592615 0.1435093  0.20030585 0.8886329  0.88121859\n",
      " 0.32222262 0.58558401 0.03223827 0.73172377]\n",
      "The arrays are the same!\n"
     ]
    }
   ],
   "metadata": {}
  }
 ],
 "metadata": {
  "orig_nbformat": 4,
  "language_info": {
   "name": "python"
  }
 },
 "nbformat": 4,
 "nbformat_minor": 2
}